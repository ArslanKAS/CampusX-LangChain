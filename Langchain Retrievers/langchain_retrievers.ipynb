{
 "cells": [
  {
   "cell_type": "markdown",
   "id": "22329563",
   "metadata": {},
   "source": [
    "# Langchain Retrievers\n",
    "\n",
    "* Wikipedia Retriever\n",
    "* Vector Store Retriever\n",
    "* MMR\n",
    "* Multi-Query Retriever\n",
    "* Contexual Compression Retriever"
   ]
  },
  {
   "cell_type": "code",
   "execution_count": null,
   "id": "75d4ea61",
   "metadata": {},
   "outputs": [],
   "source": [
    "# !pip install langchain chromadb faiss-cpu openai tiktoken langchain_openai langchain-community wikipedia"
   ]
  },
  {
   "cell_type": "markdown",
   "id": "71ae2c10",
   "metadata": {},
   "source": [
    "## Wikipedia Retriever"
   ]
  },
  {
   "cell_type": "code",
   "execution_count": 1,
   "id": "8ba699d5",
   "metadata": {},
   "outputs": [],
   "source": [
    "from langchain_community.retrievers import WikipediaRetriever\n",
    "retriever = WikipediaRetriever(top_k_results=2, lang=\"en\")"
   ]
  },
  {
   "cell_type": "code",
   "execution_count": 2,
   "id": "351c2d74",
   "metadata": {},
   "outputs": [],
   "source": [
    "# Define your query\n",
    "query = \"the difference between indian, pakistani and bangladeshi culture, food, and language\"\n",
    "\n",
    "# Get relevant Wikipedia documents\n",
    "docs = retriever.invoke(query)"
   ]
  },
  {
   "cell_type": "code",
   "execution_count": 3,
   "id": "0e065a0e",
   "metadata": {},
   "outputs": [
    {
     "data": {
      "text/plain": [
       "[Document(metadata={'title': 'Culture of Bangladesh', 'summary': 'The culture of Bangladesh is intertwined with the culture of the Bengal region of the Indian subcontinent. It has evolved over the centuries and encompasses the cultural diversity of several social groups of Bangladesh. The Bengal Renaissance of the 18th  early 19th centuries, noted Bengali writers, saints, authors, scientists, researchers, thinkers, music composers, painters,  film-makers have played a significant role in the development of Bengali culture. The culture of Bangladesh is deeply intertwined with the culture of the Bengal region. Basically, Bengali culture refers to the culture of Bangladesh. The Bengal Renaissance contained the seeds of a nascent political Indian nationalism which was the precursor in many ways to modern Indian artistic cultural expression.\\nAccording to M. Nazrul Islam Tamij, a human rights activist and chairman of the National Human Rights Society (NHRS), human rights are the most important part of Bengali culture, and it plays an important role in the development of Bengali culture.\\nThe cultures of Bangladesh composite over the centuries have assimilated influences of Islam, Hinduism, Buddhism,  and Christianity. It is manifested in various forms, including music, dance,  drama; art  craft; folklore  folktale; languages  literature; philosophy  religion; festivals  celebrations; as well as in a distinct cuisine  culinary tradition.', 'source': 'https://en.wikipedia.org/wiki/Culture_of_Bangladesh'}, page_content=\"The culture of Bangladesh is intertwined with the culture of the Bengal region of the Indian subcontinent. It has evolved over the centuries and encompasses the cultural diversity of several social groups of Bangladesh. The Bengal Renaissance of the 18th  early 19th centuries, noted Bengali writers, saints, authors, scientists, researchers, thinkers, music composers, painters,  film-makers have played a significant role in the development of Bengali culture. The culture of Bangladesh is deeply intertwined with the culture of the Bengal region. Basically, Bengali culture refers to the culture of Bangladesh. The Bengal Renaissance contained the seeds of a nascent political Indian nationalism which was the precursor in many ways to modern Indian artistic cultural expression.\\nAccording to M. Nazrul Islam Tamij, a human rights activist and chairman of the National Human Rights Society (NHRS), human rights are the most important part of Bengali culture, and it plays an important role in the development of Bengali culture.\\nThe cultures of Bangladesh composite over the centuries have assimilated influences of Islam, Hinduism, Buddhism,  and Christianity. It is manifested in various forms, including music, dance,  drama; art  craft; folklore  folktale; languages  literature; philosophy  religion; festivals  celebrations; as well as in a distinct cuisine  culinary tradition.\\n\\n\\n== Music, dance, drama ==\\n\\nThe music dance styles of Bangladesh may be divided into three categories: classical, folk, modern.\\nAfter gaining independence from British rule, East Bengal (Bangladesh) was still a colony of Pakistan. It was called East Pakistan.\\nThe classical style has been influenced by other prevalent classical forms of music dances of the Indian subcontinent, accordingly, show some influenced dance forms like Bharatnatyam Kathak.\\nSeveral dancing styles in vogue are practised in the northeastern part of the Indian subcontinent, like Manipuri  Santhali dances, but Bangladesh has developed its own distinct dancing styles. Bangladesh has a rich tradition of folk songs, with lyrics rooted in vibrant tradition  spirituality, mysticism,  devotion. Such folk songs revolve around other themes, including love. The most prevalent folk songs  music traditions include Bhatiali, Baul, Marfati, Murshidi,  Bhawaiya. Lyricists like Lalon Shah, Hason Raja, Kangal Harinath, Romesh Shill, Abbas Uddin,  many unknown anonymous lyricists have enriched the tradition of folk songs of Bangladesh.\\n\\nIn a relatively modern context, works of Rabindranath Tagore and Nazrul Islam form a major part of the cultural heritage of Bangladesh. Several musical instruments, some of them indigenous, are used in Bangladesh. Major musical instruments used are the bamboo flute (Bashi), drums (tabla, dhol), a single-stringed instrument named ektara, a four-stringed instrument called dotara,  a pair of metal bowls, used for rhythm effects, called mandira. Currently, musical instruments of western origin, like guitars, drums, and the saxophone are used, sometimes along with traditional instruments (Muajj). From the 90's, It gave rise to quality rock bands, not only the urban place from Dhaka but also the port city Chittagong.\\n\\n\\n== Media and cinema ==\\n\\nThe Bangladeshi press is diverse, outspoken and privately owned. Over 200 newspapers are published in the country. Bangladesh Betar is the state-run radio service. The British Broadcasting Corporation operates the popular BBC Bangla news and current affairs service. Bengali broadcasts from Voice of America are also very popular. Bangladesh Television (BTV) is the state-owned television network. There are more than 20 privately owned television networks, including several news channels. Freedom of the media remains a major concern, due to government attempts at censorship and harassment of journalists.\\nThe cinema of Bangladesh dates back to 1898 when films began screening at the Crown Theatre in Dhaka. The first bioscope in the subcontinent was esta\"),\n",
       " Document(metadata={'title': 'India–Pakistan relations', 'summary': 'India and Pakistan have a complex and largely hostile relationship that is rooted in a multitude of historical and political events, most notably the partition of British India in August 1947.\\nTwo years after World War II, the United Kingdom formally dissolved British India, dividing it into two new sovereign nations: the Union of India and Pakistan. The partitioning of the former British colony resulted in the displacement of up to 15 million people, with the death toll estimated to have reached between several hundred thousand and one million people as Hindus and Muslims migrated in opposite directions across the Radcliffe Line to reach India and Pakistan, respectively. In 1950, India emerged as a secular republic with a Hindu-majority population and a large Muslim minority. Shortly afterwards, in 1956, Pakistan emerged as an Islamic republic with a Muslim-majority population and a large Hindu minority; it later lost most of its Hindu population following its defeat in the Bangladesh Liberation War of 1971, which saw the secession of East Pakistan as the independent country of Bangladesh.\\nWhile both countries established full diplomatic ties shortly after their formal independence, their relationship was quickly overshadowed by the mutual effects of the partition as well as by the emergence of conflicting territorial claims over various princely states, with the most significant dispute being that of Jammu and Kashmir. Since 1947, India and Pakistan have fought three major wars and one undeclared war, and have also engaged in numerous armed skirmishes and military standoffs; the Kashmir conflict has served as the catalyst for every war between the two states, with the exception of the Indo-Pakistani War of 1971, which instead occurred alongside the Bangladesh Liberation War.\\nThe India–Pakistan border is one of the most militarized international boundaries in the world. There have been numerous attempts to improve the relationship, notably with the 1972 Shimla summit, 1999 Lahore summit, and the 2001 Agra summit in addition to various peace and co-operation initiatives. Despite those efforts, relations between the countries have remained frigid as a result of repeated acts of cross-border terrorism sponsored by the Pakistani side and alleged subversive acts sponsored by India. The lack of any political advantages on either side for pursuing better relations has resulted in a period of \"minimalist engagement\" by both countries. This allows them to keep a \"cold peace\" with each other. \\nNorthern India and most of modern-day Pakistan overlap with each other in terms of their common Indo-Aryan demographic, natively speaking a variety of Indo-Aryan languages (mainly Punjabi, Sindhi, and Hindi–Urdu). Although the two countries have linguistic and cultural ties, the size of India-Pakistan trade is very small relative to the size of their economies and the fact that they share a land border. Trade across direct routes has been curtailed formally, so the bulk of India-Pakistan trade is routed through Dubai in the Middle East. According to a BBC World Service poll in 2017, only 5% of Indians view Pakistan\\'s influence positively, with 85% expressing a negative view, while 11% of Pakistanis view India\\'s influence positively, with 62% expressing a negative view.\\n\\n', 'source': 'https://en.wikipedia.org/wiki/India%E2%80%93Pakistan_relations'}, page_content='India and Pakistan have a complex and largely hostile relationship that is rooted in a multitude of historical and political events, most notably the partition of British India in August 1947.\\nTwo years after World War II, the United Kingdom formally dissolved British India, dividing it into two new sovereign nations: the Union of India and Pakistan. The partitioning of the former British colony resulted in the displacement of up to 15 million people, with the death toll estimated to have reached between several hundred thousand and one million people as Hindus and Muslims migrated in opposite directions across the Radcliffe Line to reach India and Pakistan, respectively. In 1950, India emerged as a secular republic with a Hindu-majority population and a large Muslim minority. Shortly afterwards, in 1956, Pakistan emerged as an Islamic republic with a Muslim-majority population and a large Hindu minority; it later lost most of its Hindu population following its defeat in the Bangladesh Liberation War of 1971, which saw the secession of East Pakistan as the independent country of Bangladesh.\\nWhile both countries established full diplomatic ties shortly after their formal independence, their relationship was quickly overshadowed by the mutual effects of the partition as well as by the emergence of conflicting territorial claims over various princely states, with the most significant dispute being that of Jammu and Kashmir. Since 1947, India and Pakistan have fought three major wars and one undeclared war, and have also engaged in numerous armed skirmishes and military standoffs; the Kashmir conflict has served as the catalyst for every war between the two states, with the exception of the Indo-Pakistani War of 1971, which instead occurred alongside the Bangladesh Liberation War.\\nThe India–Pakistan border is one of the most militarized international boundaries in the world. There have been numerous attempts to improve the relationship, notably with the 1972 Shimla summit, 1999 Lahore summit, and the 2001 Agra summit in addition to various peace and co-operation initiatives. Despite those efforts, relations between the countries have remained frigid as a result of repeated acts of cross-border terrorism sponsored by the Pakistani side and alleged subversive acts sponsored by India. The lack of any political advantages on either side for pursuing better relations has resulted in a period of \"minimalist engagement\" by both countries. This allows them to keep a \"cold peace\" with each other. \\nNorthern India and most of modern-day Pakistan overlap with each other in terms of their common Indo-Aryan demographic, natively speaking a variety of Indo-Aryan languages (mainly Punjabi, Sindhi, and Hindi–Urdu). Although the two countries have linguistic and cultural ties, the size of India-Pakistan trade is very small relative to the size of their economies and the fact that they share a land border. Trade across direct routes has been curtailed formally, so the bulk of India-Pakistan trade is routed through Dubai in the Middle East. According to a BBC World Service poll in 2017, only 5% of Indians view Pakistan\\'s influence positively, with 85% expressing a negative view, while 11% of Pakistanis view India\\'s influence positively, with 62% expressing a negative view.\\n\\n\\n== Background ==\\n\\n\\n=== Pre-partition era ===\\n\\nMost of the pre-British invasions into India (the Muslim conquests having been the most impactful) took place from the northwest through the modern-day territory of Pakistan. This geography meant that Pakistan absorbed more Persian and Muslim influences than the rest of the subcontinent, which can be seen in its modern-day usage of a modified Perso-Arabic alphabet for Urdu (see also: Northwestern South Asia). \\nIn the 1840s, Sindh, Kashmir, and Punjab, which are along today\\'s India-Pakistan border, were annexed into British India. British historian John Keay notes that while the rest of British India had generally been consolidated thr')]"
      ]
     },
     "execution_count": 3,
     "metadata": {},
     "output_type": "execute_result"
    }
   ],
   "source": [
    "docs"
   ]
  },
  {
   "cell_type": "code",
   "execution_count": 4,
   "id": "ac7e7853",
   "metadata": {},
   "outputs": [
    {
     "name": "stdout",
     "output_type": "stream",
     "text": [
      "\n",
      "--- Result 1 ---\n",
      "Content:\n",
      "The culture of Bangladesh is intertwined with the culture of the Bengal region of the Indian subcontinent. It has evolved over the centuries and encompasses the cultural diversity of several social groups of Bangladesh. The Bengal Renaissance of the 18th  early 19th centuries, noted Bengali writers, saints, authors, scientists, researchers, thinkers, music composers, painters,  film-makers have played a significant role in the development of Bengali culture. The culture of Bangladesh is deeply intertwined with the culture of the Bengal region. Basically, Bengali culture refers to the culture of Bangladesh. The Bengal Renaissance contained the seeds of a nascent political Indian nationalism which was the precursor in many ways to modern Indian artistic cultural expression.\n",
      "According to M. Nazrul Islam Tamij, a human rights activist and chairman of the National Human Rights Society (NHRS), human rights are the most important part of Bengali culture, and it plays an important role in the development of Bengali culture.\n",
      "The cultures of Bangladesh composite over the centuries have assimilated influences of Islam, Hinduism, Buddhism,  and Christianity. It is manifested in various forms, including music, dance,  drama; art  craft; folklore  folktale; languages  literature; philosophy  religion; festivals  celebrations; as well as in a distinct cuisine  culinary tradition.\n",
      "\n",
      "\n",
      "== Music, dance, drama ==\n",
      "\n",
      "The music dance styles of Bangladesh may be divided into three categories: classical, folk, modern.\n",
      "After gaining independence from British rule, East Bengal (Bangladesh) was still a colony of Pakistan. It was called East Pakistan.\n",
      "The classical style has been influenced by other prevalent classical forms of music dances of the Indian subcontinent, accordingly, show some influenced dance forms like Bharatnatyam Kathak.\n",
      "Several dancing styles in vogue are practised in the northeastern part of the Indian subcontinent, like Manipuri  Santhali dances, but Bangladesh has developed its own distinct dancing styles. Bangladesh has a rich tradition of folk songs, with lyrics rooted in vibrant tradition  spirituality, mysticism,  devotion. Such folk songs revolve around other themes, including love. The most prevalent folk songs  music traditions include Bhatiali, Baul, Marfati, Murshidi,  Bhawaiya. Lyricists like Lalon Shah, Hason Raja, Kangal Harinath, Romesh Shill, Abbas Uddin,  many unknown anonymous lyricists have enriched the tradition of folk songs of Bangladesh.\n",
      "\n",
      "In a relatively modern context, works of Rabindranath Tagore and Nazrul Islam form a major part of the cultural heritage of Bangladesh. Several musical instruments, some of them indigenous, are used in Bangladesh. Major musical instruments used are the bamboo flute (Bashi), drums (tabla, dhol), a single-stringed instrument named ektara, a four-stringed instrument called dotara,  a pair of metal bowls, used for rhythm effects, called mandira. Currently, musical instruments of western origin, like guitars, drums, and the saxophone are used, sometimes along with traditional instruments (Muajj). From the 90's, It gave rise to quality rock bands, not only the urban place from Dhaka but also the port city Chittagong.\n",
      "\n",
      "\n",
      "== Media and cinema ==\n",
      "\n",
      "The Bangladeshi press is diverse, outspoken and privately owned. Over 200 newspapers are published in the country. Bangladesh Betar is the state-run radio service. The British Broadcasting Corporation operates the popular BBC Bangla news and current affairs service. Bengali broadcasts from Voice of America are also very popular. Bangladesh Television (BTV) is the state-owned television network. There are more than 20 privately owned television networks, including several news channels. Freedom of the media remains a major concern, due to government attempts at censorship and harassment of journalists.\n",
      "The cinema of Bangladesh dates back to 1898 when films began screening at the Crown Theatre in Dhaka. The first bioscope in the subcontinent was esta...\n",
      "\n",
      "--- Result 2 ---\n",
      "Content:\n",
      "India and Pakistan have a complex and largely hostile relationship that is rooted in a multitude of historical and political events, most notably the partition of British India in August 1947.\n",
      "Two years after World War II, the United Kingdom formally dissolved British India, dividing it into two new sovereign nations: the Union of India and Pakistan. The partitioning of the former British colony resulted in the displacement of up to 15 million people, with the death toll estimated to have reached between several hundred thousand and one million people as Hindus and Muslims migrated in opposite directions across the Radcliffe Line to reach India and Pakistan, respectively. In 1950, India emerged as a secular republic with a Hindu-majority population and a large Muslim minority. Shortly afterwards, in 1956, Pakistan emerged as an Islamic republic with a Muslim-majority population and a large Hindu minority; it later lost most of its Hindu population following its defeat in the Bangladesh Liberation War of 1971, which saw the secession of East Pakistan as the independent country of Bangladesh.\n",
      "While both countries established full diplomatic ties shortly after their formal independence, their relationship was quickly overshadowed by the mutual effects of the partition as well as by the emergence of conflicting territorial claims over various princely states, with the most significant dispute being that of Jammu and Kashmir. Since 1947, India and Pakistan have fought three major wars and one undeclared war, and have also engaged in numerous armed skirmishes and military standoffs; the Kashmir conflict has served as the catalyst for every war between the two states, with the exception of the Indo-Pakistani War of 1971, which instead occurred alongside the Bangladesh Liberation War.\n",
      "The India–Pakistan border is one of the most militarized international boundaries in the world. There have been numerous attempts to improve the relationship, notably with the 1972 Shimla summit, 1999 Lahore summit, and the 2001 Agra summit in addition to various peace and co-operation initiatives. Despite those efforts, relations between the countries have remained frigid as a result of repeated acts of cross-border terrorism sponsored by the Pakistani side and alleged subversive acts sponsored by India. The lack of any political advantages on either side for pursuing better relations has resulted in a period of \"minimalist engagement\" by both countries. This allows them to keep a \"cold peace\" with each other. \n",
      "Northern India and most of modern-day Pakistan overlap with each other in terms of their common Indo-Aryan demographic, natively speaking a variety of Indo-Aryan languages (mainly Punjabi, Sindhi, and Hindi–Urdu). Although the two countries have linguistic and cultural ties, the size of India-Pakistan trade is very small relative to the size of their economies and the fact that they share a land border. Trade across direct routes has been curtailed formally, so the bulk of India-Pakistan trade is routed through Dubai in the Middle East. According to a BBC World Service poll in 2017, only 5% of Indians view Pakistan's influence positively, with 85% expressing a negative view, while 11% of Pakistanis view India's influence positively, with 62% expressing a negative view.\n",
      "\n",
      "\n",
      "== Background ==\n",
      "\n",
      "\n",
      "=== Pre-partition era ===\n",
      "\n",
      "Most of the pre-British invasions into India (the Muslim conquests having been the most impactful) took place from the northwest through the modern-day territory of Pakistan. This geography meant that Pakistan absorbed more Persian and Muslim influences than the rest of the subcontinent, which can be seen in its modern-day usage of a modified Perso-Arabic alphabet for Urdu (see also: Northwestern South Asia). \n",
      "In the 1840s, Sindh, Kashmir, and Punjab, which are along today's India-Pakistan border, were annexed into British India. British historian John Keay notes that while the rest of British India had generally been consolidated thr...\n"
     ]
    }
   ],
   "source": [
    "# Print retrieved content\n",
    "for i, doc in enumerate(docs):\n",
    "    print(f\"\\n--- Result {i+1} ---\")\n",
    "    print(f\"Content:\\n{doc.page_content}...\")  # truncate for display"
   ]
  },
  {
   "cell_type": "markdown",
   "id": "2a6c6dda",
   "metadata": {},
   "source": [
    "## Vector Store Retriever"
   ]
  },
  {
   "cell_type": "code",
   "execution_count": 4,
   "id": "503c0378",
   "metadata": {},
   "outputs": [
    {
     "data": {
      "text/plain": [
       "True"
      ]
     },
     "execution_count": 4,
     "metadata": {},
     "output_type": "execute_result"
    }
   ],
   "source": [
    "from langchain_community.vectorstores import Chroma\n",
    "from langchain_openai import OpenAIEmbeddings\n",
    "from langchain_core.documents import Document\n",
    "from dotenv import load_dotenv\n",
    "\n",
    "load_dotenv()"
   ]
  },
  {
   "cell_type": "code",
   "execution_count": 6,
   "id": "5b0824ed",
   "metadata": {},
   "outputs": [],
   "source": [
    "# Step 1: Your source documents\n",
    "documents = [\n",
    "    Document(page_content=\"LangChain helps developers build LLM applications easily.\"),\n",
    "    Document(page_content=\"Chroma is a vector database optimized for LLM-based search.\"),\n",
    "    Document(page_content=\"Embeddings convert text into high-dimensional vectors.\"),\n",
    "    Document(page_content=\"OpenAI provides powerful embedding models.\"),\n",
    "]"
   ]
  },
  {
   "cell_type": "code",
   "execution_count": 9,
   "id": "5c12fea2",
   "metadata": {},
   "outputs": [],
   "source": [
    "# Step 2: Initialize embedding model\n",
    "embedding_model = OpenAIEmbeddings()\n",
    "\n",
    "# Step 3: Create Chroma vector store in memory\n",
    "vectorstore = Chroma.from_documents(\n",
    "    documents=documents,\n",
    "    embedding=embedding_model,\n",
    "    collection_name=\"my_collection\"\n",
    ")"
   ]
  },
  {
   "cell_type": "code",
   "execution_count": 10,
   "id": "ce7d9bfa",
   "metadata": {},
   "outputs": [],
   "source": [
    "# Step 4: Convert vectorstore into a retriever\n",
    "retriever = vectorstore.as_retriever(search_kwargs={\"k\": 2})"
   ]
  },
  {
   "cell_type": "code",
   "execution_count": 11,
   "id": "25e90a7c",
   "metadata": {},
   "outputs": [],
   "source": [
    "query = \"What is Chroma used for?\"\n",
    "results = retriever.invoke(query)"
   ]
  },
  {
   "cell_type": "code",
   "execution_count": 12,
   "id": "43d7a6c5",
   "metadata": {},
   "outputs": [
    {
     "name": "stdout",
     "output_type": "stream",
     "text": [
      "\n",
      "--- Result 1 ---\n",
      "Chroma is a vector database optimized for LLM-based search.\n",
      "\n",
      "--- Result 2 ---\n",
      "LangChain helps developers build LLM applications easily.\n"
     ]
    }
   ],
   "source": [
    "for i, doc in enumerate(results):\n",
    "    print(f\"\\n--- Result {i+1} ---\")\n",
    "    print(doc.page_content)"
   ]
  },
  {
   "cell_type": "code",
   "execution_count": 13,
   "id": "efd83eca",
   "metadata": {},
   "outputs": [
    {
     "name": "stdout",
     "output_type": "stream",
     "text": [
      "\n",
      "--- Result 1 ---\n",
      "Chroma is a vector database optimized for LLM-based search.\n",
      "\n",
      "--- Result 2 ---\n",
      "LangChain helps developers build LLM applications easily.\n"
     ]
    }
   ],
   "source": [
    "# We can also use the built-in similarity search method of the vectorstore to find similar documents. But it's not flexible like the retriever.\n",
    "results = vectorstore.similarity_search(query, k=2)\n",
    "\n",
    "for i, doc in enumerate(results):\n",
    "    print(f\"\\n--- Result {i+1} ---\")\n",
    "    print(doc.page_content)"
   ]
  },
  {
   "cell_type": "markdown",
   "id": "43c33674",
   "metadata": {},
   "source": [
    "## Maximum Marginal Relevance (MMR)"
   ]
  },
  {
   "cell_type": "code",
   "execution_count": 14,
   "id": "24dec33e",
   "metadata": {},
   "outputs": [],
   "source": [
    "# Sample documents\n",
    "docs = [\n",
    "    Document(page_content=\"LangChain makes it easy to work with LLMs.\"),\n",
    "    Document(page_content=\"LangChain is used to build LLM based applications.\"),\n",
    "    Document(page_content=\"Chroma is used to store and search document embeddings.\"),\n",
    "    Document(page_content=\"Embeddings are vector representations of text.\"),\n",
    "    Document(page_content=\"MMR helps you get diverse results when doing similarity search.\"),\n",
    "    Document(page_content=\"LangChain supports Chroma, FAISS, Pinecone, and more.\"),\n",
    "]"
   ]
  },
  {
   "cell_type": "code",
   "execution_count": 15,
   "id": "df1cf701",
   "metadata": {},
   "outputs": [],
   "source": [
    "from langchain_community.vectorstores import FAISS\n",
    "\n",
    "# Initialize OpenAI embeddings\n",
    "embedding_model = OpenAIEmbeddings()\n",
    "\n",
    "# Step 2: Create the FAISS vector store from documents\n",
    "vectorstore = FAISS.from_documents(\n",
    "    documents=docs,\n",
    "    embedding=embedding_model\n",
    ")"
   ]
  },
  {
   "cell_type": "code",
   "execution_count": 16,
   "id": "13996cdf",
   "metadata": {},
   "outputs": [],
   "source": [
    "# Enable MMR in the retriever\n",
    "retriever = vectorstore.as_retriever(\n",
    "    search_type=\"mmr\",                   # <-- This enables MMR\n",
    "    search_kwargs={\"k\": 3, \"lambda_mult\": 0.5}  # k = top results, lambda_mult = relevance-diversity balance\n",
    ")"
   ]
  },
  {
   "cell_type": "code",
   "execution_count": 17,
   "id": "8c85c688",
   "metadata": {},
   "outputs": [],
   "source": [
    "query = \"What is langchain?\"\n",
    "results = retriever.invoke(query)"
   ]
  },
  {
   "cell_type": "code",
   "execution_count": 18,
   "id": "2e90012c",
   "metadata": {},
   "outputs": [
    {
     "name": "stdout",
     "output_type": "stream",
     "text": [
      "\n",
      "--- Result 1 ---\n",
      "LangChain is used to build LLM based applications.\n",
      "\n",
      "--- Result 2 ---\n",
      "Embeddings are vector representations of text.\n",
      "\n",
      "--- Result 3 ---\n",
      "LangChain supports Chroma, FAISS, Pinecone, and more.\n"
     ]
    }
   ],
   "source": [
    "for i, doc in enumerate(results):\n",
    "    print(f\"\\n--- Result {i+1} ---\")\n",
    "    print(doc.page_content)"
   ]
  },
  {
   "cell_type": "markdown",
   "id": "ae337e34",
   "metadata": {},
   "source": [
    "## Multiquery Retriever"
   ]
  },
  {
   "cell_type": "code",
   "execution_count": 25,
   "id": "46cf1ae1",
   "metadata": {},
   "outputs": [],
   "source": [
    "from langchain_community.vectorstores import FAISS\n",
    "from langchain_openai import OpenAIEmbeddings\n",
    "from langchain_core.documents import Document\n",
    "from langchain_openai import ChatOpenAI\n",
    "from langchain.retrievers.multi_query import MultiQueryRetriever"
   ]
  },
  {
   "cell_type": "code",
   "execution_count": 26,
   "id": "766e47ee",
   "metadata": {},
   "outputs": [],
   "source": [
    "# Relevant health & wellness documents\n",
    "all_docs = [\n",
    "    Document(page_content=\"Regular walking boosts heart health and can reduce symptoms of depression.\", metadata={\"source\": \"H1\"}),\n",
    "    Document(page_content=\"Consuming leafy greens and fruits helps detox the body and improve longevity.\", metadata={\"source\": \"H2\"}),\n",
    "    Document(page_content=\"Deep sleep is crucial for cellular repair and emotional regulation.\", metadata={\"source\": \"H3\"}),\n",
    "    Document(page_content=\"Mindfulness and controlled breathing lower cortisol and improve mental clarity.\", metadata={\"source\": \"H4\"}),\n",
    "    Document(page_content=\"Drinking sufficient water throughout the day helps maintain metabolism and energy.\", metadata={\"source\": \"H5\"}),\n",
    "    Document(page_content=\"The solar energy system in modern homes helps balance electricity demand.\", metadata={\"source\": \"I1\"}),\n",
    "    Document(page_content=\"Python balances readability with power, making it a popular system design language.\", metadata={\"source\": \"I2\"}),\n",
    "    Document(page_content=\"Photosynthesis enables plants to produce energy by converting sunlight.\", metadata={\"source\": \"I3\"}),\n",
    "    Document(page_content=\"The 2022 FIFA World Cup was held in Qatar and drew global energy and excitement.\", metadata={\"source\": \"I4\"}),\n",
    "    Document(page_content=\"Black holes bend spacetime and store immense gravitational energy.\", metadata={\"source\": \"I5\"}),\n",
    "    Document(page_content=\"Stretching daily improves flexibility, reduces injury risk, and promotes circulation.\", metadata={\"source\": \"H6\"}),\n",
    "    Document(page_content=\"Limiting screen time before bed enhances melatonin production and sleep quality.\", metadata={\"source\": \"H7\"}),\n",
    "    Document(page_content=\"Strength training increases bone density and supports long-term mobility.\", metadata={\"source\": \"H8\"}),\n",
    "    Document(page_content=\"High-fiber diets support digestive health and regulate blood sugar levels.\", metadata={\"source\": \"H9\"}),\n",
    "    Document(page_content=\"Laughter reduces stress hormones and boosts immune response.\", metadata={\"source\": \"H10\"}),\n",
    "]"
   ]
  },
  {
   "cell_type": "code",
   "execution_count": 27,
   "id": "f7287105",
   "metadata": {},
   "outputs": [],
   "source": [
    "# Initialize OpenAI embeddings\n",
    "embedding_model = OpenAIEmbeddings()\n",
    "\n",
    "# Create FAISS vector store\n",
    "vectorstore = FAISS.from_documents(documents=all_docs, embedding=embedding_model)"
   ]
  },
  {
   "cell_type": "code",
   "execution_count": null,
   "id": "c53c955d",
   "metadata": {},
   "outputs": [],
   "source": [
    "# Create retrievers\n",
    "similarity_retriever = vectorstore.as_retriever(search_type=\"similarity\", search_kwargs={\"k\": 5}) # returns exactly 5 results"
   ]
  },
  {
   "cell_type": "code",
   "execution_count": null,
   "id": "a7095b8c",
   "metadata": {},
   "outputs": [],
   "source": [
    "multiquery_retriever = MultiQueryRetriever.from_llm(\n",
    "    retriever=vectorstore.as_retriever(search_kwargs={\"k\": 4}), # returns one extra result\n",
    "    llm=ChatOpenAI(model=\"gpt-4.1-mini\")\n",
    ")"
   ]
  },
  {
   "cell_type": "code",
   "execution_count": 30,
   "id": "2e6fa114",
   "metadata": {},
   "outputs": [],
   "source": [
    "# Query\n",
    "query = \"How to improve energy levels and maintain balance?\""
   ]
  },
  {
   "cell_type": "code",
   "execution_count": 31,
   "id": "f64a9d02",
   "metadata": {},
   "outputs": [],
   "source": [
    "# Retrieve results\n",
    "similarity_results = similarity_retriever.invoke(query)\n",
    "multiquery_results= multiquery_retriever.invoke(query)"
   ]
  },
  {
   "cell_type": "code",
   "execution_count": 32,
   "id": "c1a56af8",
   "metadata": {},
   "outputs": [
    {
     "name": "stdout",
     "output_type": "stream",
     "text": [
      "SIMPLE RETRIEVER RESULTS\n",
      "\n",
      "--- Result 1 ---\n",
      "Drinking sufficient water throughout the day helps maintain metabolism and energy.\n",
      "\n",
      "--- Result 2 ---\n",
      "Stretching daily improves flexibility, reduces injury risk, and promotes circulation.\n",
      "\n",
      "--- Result 3 ---\n",
      "Mindfulness and controlled breathing lower cortisol and improve mental clarity.\n",
      "\n",
      "--- Result 4 ---\n",
      "Regular walking boosts heart health and can reduce symptoms of depression.\n",
      "\n",
      "--- Result 5 ---\n",
      "Deep sleep is crucial for cellular repair and emotional regulation.\n",
      "******************************************************************************************************************************************************\n",
      "MULTI-QUERY RETRIEVER RESULTS\n",
      "\n",
      "--- Result 1 ---\n",
      "Drinking sufficient water throughout the day helps maintain metabolism and energy.\n",
      "\n",
      "--- Result 2 ---\n",
      "Stretching daily improves flexibility, reduces injury risk, and promotes circulation.\n",
      "\n",
      "--- Result 3 ---\n",
      "Mindfulness and controlled breathing lower cortisol and improve mental clarity.\n",
      "\n",
      "--- Result 4 ---\n",
      "Consuming leafy greens and fruits helps detox the body and improve longevity.\n",
      "\n",
      "--- Result 5 ---\n",
      "Regular walking boosts heart health and can reduce symptoms of depression.\n"
     ]
    }
   ],
   "source": [
    "print(\"SIMPLE RETRIEVER RESULTS\")\n",
    "for i, doc in enumerate(similarity_results):\n",
    "    print(f\"\\n--- Result {i+1} ---\")\n",
    "    print(doc.page_content)\n",
    "\n",
    "print(\"*\"*150)\n",
    "\n",
    "print(\"MULTI-QUERY RETRIEVER RESULTS\")\n",
    "for i, doc in enumerate(multiquery_results):\n",
    "    print(f\"\\n--- Result {i+1} ---\")\n",
    "    print(doc.page_content)"
   ]
  },
  {
   "cell_type": "markdown",
   "id": "d4207877",
   "metadata": {},
   "source": [
    "## Contextual Compression Retriever"
   ]
  },
  {
   "cell_type": "code",
   "execution_count": 34,
   "id": "68352308",
   "metadata": {},
   "outputs": [],
   "source": [
    "from langchain_community.vectorstores import FAISS\n",
    "from langchain_openai import OpenAIEmbeddings, ChatOpenAI\n",
    "from langchain.retrievers.contextual_compression import ContextualCompressionRetriever\n",
    "from langchain.retrievers.document_compressors import LLMChainExtractor\n",
    "from langchain_core.documents import Document"
   ]
  },
  {
   "cell_type": "code",
   "execution_count": 35,
   "id": "0bac8001",
   "metadata": {},
   "outputs": [],
   "source": [
    "# Recreate the document objects from the previous data\n",
    "docs = [\n",
    "    Document(page_content=(\n",
    "        \"\"\"The Grand Canyon is one of the most visited natural wonders in the world.\n",
    "        Photosynthesis is the process by which green plants convert sunlight into energy.\n",
    "        Millions of tourists travel to see it every year. The rocks date back millions of years.\"\"\"\n",
    "    ), metadata={\"source\": \"Doc1\"}),\n",
    "\n",
    "    Document(page_content=(\n",
    "        \"\"\"In medieval Europe, castles were built primarily for defense.\n",
    "        The chlorophyll in plant cells captures sunlight during photosynthesis.\n",
    "        Knights wore armor made of metal. Siege weapons were often used to breach castle walls.\"\"\"\n",
    "    ), metadata={\"source\": \"Doc2\"}),\n",
    "\n",
    "    Document(page_content=(\n",
    "        \"\"\"Basketball was invented by Dr. James Naismith in the late 19th century.\n",
    "        It was originally played with a soccer ball and peach baskets. NBA is now a global league.\"\"\"\n",
    "    ), metadata={\"source\": \"Doc3\"}),\n",
    "\n",
    "    Document(page_content=(\n",
    "        \"\"\"The history of cinema began in the late 1800s. Silent films were the earliest form.\n",
    "        Thomas Edison was among the pioneers. Photosynthesis does not occur in animal cells.\n",
    "        Modern filmmaking involves complex CGI and sound design.\"\"\"\n",
    "    ), metadata={\"source\": \"Doc4\"})\n",
    "]"
   ]
  },
  {
   "cell_type": "code",
   "execution_count": 36,
   "id": "cb483362",
   "metadata": {},
   "outputs": [],
   "source": [
    "# Create a FAISS vector store from the documents\n",
    "embedding_model = OpenAIEmbeddings()\n",
    "vectorstore = FAISS.from_documents(docs, embedding_model)"
   ]
  },
  {
   "cell_type": "code",
   "execution_count": 37,
   "id": "80b261e1",
   "metadata": {},
   "outputs": [],
   "source": [
    "base_retriever = vectorstore.as_retriever(search_kwargs={\"k\": 5})"
   ]
  },
  {
   "cell_type": "code",
   "execution_count": 38,
   "id": "2b005aab",
   "metadata": {},
   "outputs": [],
   "source": [
    "# Set up the compressor using an LLM\n",
    "llm = ChatOpenAI(model=\"gpt-4o-mini\")\n",
    "compressor = LLMChainExtractor.from_llm(llm)"
   ]
  },
  {
   "cell_type": "code",
   "execution_count": 39,
   "id": "05abbef3",
   "metadata": {},
   "outputs": [],
   "source": [
    "# Create the contextual compression retriever\n",
    "compression_retriever = ContextualCompressionRetriever(\n",
    "    base_retriever=base_retriever,\n",
    "    base_compressor=compressor\n",
    ")"
   ]
  },
  {
   "cell_type": "code",
   "execution_count": 40,
   "id": "1afd1fac",
   "metadata": {},
   "outputs": [],
   "source": [
    "# Query the retriever\n",
    "query = \"What is photosynthesis?\"\n",
    "compressed_results = compression_retriever.invoke(query)"
   ]
  },
  {
   "cell_type": "code",
   "execution_count": 41,
   "id": "2ab7ee31",
   "metadata": {},
   "outputs": [
    {
     "name": "stdout",
     "output_type": "stream",
     "text": [
      "\n",
      "--- Result 1 ---\n",
      "Photosynthesis is the process by which green plants convert sunlight into energy.\n",
      "\n",
      "--- Result 2 ---\n",
      "The chlorophyll in plant cells captures sunlight during photosynthesis.\n",
      "\n",
      "--- Result 3 ---\n",
      "Photosynthesis does not occur in animal cells.\n"
     ]
    }
   ],
   "source": [
    "for i, doc in enumerate(compressed_results):\n",
    "    print(f\"\\n--- Result {i+1} ---\")\n",
    "    print(doc.page_content)\n"
   ]
  }
 ],
 "metadata": {
  "kernelspec": {
   "display_name": "llm_environment",
   "language": "python",
   "name": "python3"
  },
  "language_info": {
   "codemirror_mode": {
    "name": "ipython",
    "version": 3
   },
   "file_extension": ".py",
   "mimetype": "text/x-python",
   "name": "python",
   "nbconvert_exporter": "python",
   "pygments_lexer": "ipython3",
   "version": "3.11.9"
  }
 },
 "nbformat": 4,
 "nbformat_minor": 5
}
