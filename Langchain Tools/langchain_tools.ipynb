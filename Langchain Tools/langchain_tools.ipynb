{
 "cells": [
  {
   "cell_type": "markdown",
   "id": "b0848608",
   "metadata": {},
   "source": [
    "# LangChain Tools\n",
    "\n",
    "* **Built-In Tools:** https://python.langchain.com/docs/integrations/tools/\n",
    "* **Custom Tools**"
   ]
  },
  {
   "cell_type": "code",
   "execution_count": null,
   "id": "4cb3091d",
   "metadata": {},
   "outputs": [],
   "source": [
    "# !pip install langchain langchain-core langchain-community pydantic duckduckgo-search langchain_experimental"
   ]
  },
  {
   "cell_type": "markdown",
   "id": "95bfcc33",
   "metadata": {},
   "source": [
    "## Built-in Tool - DuckDuckGo Search"
   ]
  },
  {
   "cell_type": "code",
   "execution_count": 8,
   "id": "6cb001a4",
   "metadata": {},
   "outputs": [
    {
     "name": "stdout",
     "output_type": "stream",
     "text": [
      "The Abuse Listener integrates seamlessly into AutoInsights, CXEX's AI-driven analytics platform. When an agent experiences an abusive call, instead of relying on subjective reporting, the system: Automatically analyzes the conversation, identifying high-risk language, threats, or aggressive speech patterns. Providers that optimise customer (CX) and employee experiences (EX) gain a competitive advantage, driving revenue, improving margins, and strengthening customer loyalty. CXEX AutoInsights, an AI-powered solution available from COTU, enables businesses to harness these opportunities by unlocking deep insights from voice interactions. By integrating CX, EX, UX and MX and leveraging advanced AI technologies, you can create seamless and personalized experiences that delight customers and empower employees. Start your TX journey ... Enhance CX: Use real-time insights to personalize interactions and address customer concerns immediately. Streamline Operations: Reduce manual QA efforts by more than 80%, freeing teams to focus on strategic and value-added tasks. ... Stay ahead of the curve with CXEX's AutoInsights platform, and unlock the full potential of your voice data ... Nearly 70,000 organisations, including Databricks, Fila, Nucor, Warby Parker, Brilliant Earth and Wiz, use Freshworks' CX & EX software to achieve returns on AI investment. 9. Birdeye. CEO: Naveen Gupta Headquarters: Palo Alto, California. ... The CX platform boasts a range of benefits, including integrated services and transparent pricing and ...\n"
     ]
    }
   ],
   "source": [
    "from langchain_community.tools import DuckDuckGoSearchRun\n",
    "\n",
    "search_tool = DuckDuckGoSearchRun()\n",
    "\n",
    "results = search_tool.invoke('Whats is CX-EX AutoInsights about?')\n",
    "\n",
    "print(results)"
   ]
  },
  {
   "cell_type": "code",
   "execution_count": 9,
   "id": "d646f9da",
   "metadata": {},
   "outputs": [
    {
     "name": "stdout",
     "output_type": "stream",
     "text": [
      "duckduckgo_search\n",
      "A wrapper around DuckDuckGo Search. Useful for when you need to answer questions about current events. Input should be a search query.\n",
      "{'query': {'description': 'search query to look up', 'title': 'Query', 'type': 'string'}}\n"
     ]
    }
   ],
   "source": [
    "print(search_tool.name)\n",
    "print(search_tool.description)\n",
    "print(search_tool.args)"
   ]
  },
  {
   "cell_type": "markdown",
   "id": "cac4686a",
   "metadata": {},
   "source": [
    "## Built-in Tool - Shell Tool"
   ]
  },
  {
   "cell_type": "code",
   "execution_count": null,
   "id": "f6bb5732",
   "metadata": {},
   "outputs": [],
   "source": [
    "from langchain_community.tools import ShellTool\n",
    "\n",
    "shell_tool = ShellTool()\n",
    "\n",
    "results = shell_tool.invoke('dir')\n",
    "\n",
    "print(results)"
   ]
  },
  {
   "cell_type": "markdown",
   "id": "b9456bfb",
   "metadata": {},
   "source": [
    "## Custom Tools\n",
    "\n",
    "* Using `tool` from LangChain\n",
    "* Using `StructuredTool` and Pydantic\n",
    "* Using `BaseTool` class"
   ]
  },
  {
   "cell_type": "markdown",
   "id": "cbc61651",
   "metadata": {},
   "source": [
    "### Using `tool`"
   ]
  },
  {
   "cell_type": "code",
   "execution_count": 1,
   "id": "c3baaec5",
   "metadata": {},
   "outputs": [],
   "source": [
    "from langchain_core.tools import tool"
   ]
  },
  {
   "cell_type": "code",
   "execution_count": 4,
   "id": "1f1dfbe1",
   "metadata": {},
   "outputs": [],
   "source": [
    "# Step 1 - create a function\n",
    "\n",
    "def num_multiply(a, b):\n",
    "    \"\"\"Multiply two numbers\"\"\"\n",
    "    return a*b"
   ]
  },
  {
   "cell_type": "code",
   "execution_count": 5,
   "id": "6c8b746d",
   "metadata": {},
   "outputs": [],
   "source": [
    "# Step 2 - add type hints\n",
    "\n",
    "def num_multiply(a: int, b:int) -> int:\n",
    "    \"\"\"Multiply two numbers\"\"\"\n",
    "    return a*b"
   ]
  },
  {
   "cell_type": "code",
   "execution_count": 6,
   "id": "914ba042",
   "metadata": {},
   "outputs": [],
   "source": [
    "# Step 3 - add tool decorator\n",
    "\n",
    "@tool\n",
    "def num_multiply(a: int, b:int) -> int:\n",
    "    \"\"\"Multiply two numbers\"\"\"\n",
    "    return a*b"
   ]
  },
  {
   "cell_type": "code",
   "execution_count": 8,
   "id": "8bc8efdd",
   "metadata": {},
   "outputs": [
    {
     "name": "stdout",
     "output_type": "stream",
     "text": [
      "15\n"
     ]
    }
   ],
   "source": [
    "result = num_multiply.invoke({\"a\":3, \"b\":5})\n",
    "print(result)"
   ]
  },
  {
   "cell_type": "code",
   "execution_count": 9,
   "id": "fdcea5a4",
   "metadata": {},
   "outputs": [
    {
     "name": "stdout",
     "output_type": "stream",
     "text": [
      "num_multiply\n",
      "Multiply two numbers\n",
      "{'a': {'title': 'A', 'type': 'integer'}, 'b': {'title': 'B', 'type': 'integer'}}\n"
     ]
    }
   ],
   "source": [
    "print(num_multiply.name)\n",
    "print(num_multiply.description)\n",
    "print(num_multiply.args)"
   ]
  },
  {
   "cell_type": "code",
   "execution_count": 10,
   "id": "c764431c",
   "metadata": {},
   "outputs": [
    {
     "name": "stdout",
     "output_type": "stream",
     "text": [
      "{'description': 'Multiply two numbers', 'properties': {'a': {'title': 'A', 'type': 'integer'}, 'b': {'title': 'B', 'type': 'integer'}}, 'required': ['a', 'b'], 'title': 'num_multiply', 'type': 'object'}\n"
     ]
    }
   ],
   "source": [
    "print(num_multiply.args_schema.model_json_schema())"
   ]
  },
  {
   "cell_type": "markdown",
   "id": "107f563a",
   "metadata": {},
   "source": [
    "### Using `StructuredTool` and Pydantic"
   ]
  },
  {
   "cell_type": "code",
   "execution_count": 11,
   "id": "69c66bab",
   "metadata": {},
   "outputs": [],
   "source": [
    "from langchain.tools import StructuredTool\n",
    "from pydantic import BaseModel, Field"
   ]
  },
  {
   "cell_type": "code",
   "execution_count": 12,
   "id": "afc15dd3",
   "metadata": {},
   "outputs": [],
   "source": [
    "class MultiplyInput(BaseModel):\n",
    "    a: int = Field(required=True, description=\"The first number to add\")\n",
    "    b: int = Field(required=True, description=\"The second number to add\")"
   ]
  },
  {
   "cell_type": "code",
   "execution_count": 13,
   "id": "e3232067",
   "metadata": {},
   "outputs": [],
   "source": [
    "def multiply_func(a: int, b: int) -> int:\n",
    "    return a * b"
   ]
  },
  {
   "cell_type": "code",
   "execution_count": 14,
   "id": "94063551",
   "metadata": {},
   "outputs": [],
   "source": [
    "multiply_tool = StructuredTool.from_function(\n",
    "    func=multiply_func,\n",
    "    name=\"multiply\",\n",
    "    description=\"Multiply two numbers\",\n",
    "    args_schema=MultiplyInput\n",
    ")"
   ]
  },
  {
   "cell_type": "code",
   "execution_count": 15,
   "id": "72180f79",
   "metadata": {},
   "outputs": [
    {
     "name": "stdout",
     "output_type": "stream",
     "text": [
      "9\n",
      "multiply\n",
      "Multiply two numbers\n",
      "{'a': {'description': 'The first number to add', 'required': True, 'title': 'A', 'type': 'integer'}, 'b': {'description': 'The second number to add', 'required': True, 'title': 'B', 'type': 'integer'}}\n"
     ]
    }
   ],
   "source": [
    "result = multiply_tool.invoke({'a':3, 'b':3})\n",
    "\n",
    "print(result)\n",
    "print(multiply_tool.name)\n",
    "print(multiply_tool.description)\n",
    "print(multiply_tool.args)"
   ]
  },
  {
   "cell_type": "markdown",
   "id": "b4b22351",
   "metadata": {},
   "source": [
    "### Using `BaseTool` class"
   ]
  },
  {
   "cell_type": "code",
   "execution_count": 16,
   "id": "8b72330f",
   "metadata": {},
   "outputs": [],
   "source": [
    "from langchain.tools import BaseTool\n",
    "from typing import Type"
   ]
  },
  {
   "cell_type": "code",
   "execution_count": 17,
   "id": "64b8a6a6",
   "metadata": {},
   "outputs": [],
   "source": [
    "# arg schema using pydantic\n",
    "\n",
    "class MultiplyInput(BaseModel):\n",
    "    a: int = Field(required=True, description=\"The first number to add\")\n",
    "    b: int = Field(required=True, description=\"The second number to add\")"
   ]
  },
  {
   "cell_type": "code",
   "execution_count": 18,
   "id": "e6985a1d",
   "metadata": {},
   "outputs": [],
   "source": [
    "class MultiplyTool(BaseTool):\n",
    "    name: str = \"multiply\"\n",
    "    description: str = \"Multiply two numbers\"\n",
    "\n",
    "    args_schema: Type[BaseModel] = MultiplyInput\n",
    "\n",
    "    def _run(self, a: int, b: int) -> int:\n",
    "        return a * b"
   ]
  },
  {
   "cell_type": "code",
   "execution_count": 19,
   "id": "59a29a69",
   "metadata": {},
   "outputs": [
    {
     "name": "stdout",
     "output_type": "stream",
     "text": [
      "6\n",
      "multiply\n",
      "Multiply two numbers\n",
      "{'a': {'description': 'The first number to add', 'required': True, 'title': 'A', 'type': 'integer'}, 'b': {'description': 'The second number to add', 'required': True, 'title': 'B', 'type': 'integer'}}\n"
     ]
    }
   ],
   "source": [
    "multiply_tool = MultiplyTool()\n",
    "\n",
    "result = multiply_tool.invoke({'a':2, 'b':3})\n",
    "\n",
    "print(result)\n",
    "print(multiply_tool.name)\n",
    "print(multiply_tool.description)\n",
    "\n",
    "print(multiply_tool.args)"
   ]
  },
  {
   "cell_type": "markdown",
   "id": "468e6608",
   "metadata": {},
   "source": [
    "## Toolkit"
   ]
  },
  {
   "cell_type": "code",
   "execution_count": 20,
   "id": "439e2d09",
   "metadata": {},
   "outputs": [],
   "source": [
    "from langchain_core.tools import tool\n",
    "\n",
    "# Custom tools\n",
    "@tool\n",
    "def add(a: int, b: int) -> int:\n",
    "    \"\"\"Add two numbers\"\"\"\n",
    "    return a + b\n",
    "\n",
    "@tool\n",
    "def multiply(a: int, b: int) -> int:\n",
    "    \"\"\"Multiply two numbers\"\"\"\n",
    "    return a * b\n"
   ]
  },
  {
   "cell_type": "code",
   "execution_count": 21,
   "id": "3514563d",
   "metadata": {},
   "outputs": [],
   "source": [
    "class MathToolkit:\n",
    "    def get_tools(self):\n",
    "        return [add, multiply]\n"
   ]
  },
  {
   "cell_type": "code",
   "execution_count": 22,
   "id": "6c269494",
   "metadata": {},
   "outputs": [
    {
     "name": "stdout",
     "output_type": "stream",
     "text": [
      "add => Add two numbers\n",
      "multiply => Multiply two numbers\n"
     ]
    }
   ],
   "source": [
    "toolkit = MathToolkit()\n",
    "tools = toolkit.get_tools()\n",
    "\n",
    "for tool in tools:\n",
    "    print(tool.name, \"=>\", tool.description)\n"
   ]
  },
  {
   "cell_type": "code",
   "execution_count": null,
   "id": "d143a63d",
   "metadata": {},
   "outputs": [],
   "source": []
  }
 ],
 "metadata": {
  "kernelspec": {
   "display_name": "llm_environment",
   "language": "python",
   "name": "python3"
  },
  "language_info": {
   "codemirror_mode": {
    "name": "ipython",
    "version": 3
   },
   "file_extension": ".py",
   "mimetype": "text/x-python",
   "name": "python",
   "nbconvert_exporter": "python",
   "pygments_lexer": "ipython3",
   "version": "3.11.9"
  }
 },
 "nbformat": 4,
 "nbformat_minor": 5
}
