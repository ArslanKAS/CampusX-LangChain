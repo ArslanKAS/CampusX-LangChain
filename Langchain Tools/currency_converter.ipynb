{
 "cells": [
  {
   "cell_type": "markdown",
   "id": "cc724012",
   "metadata": {},
   "source": [
    "# Tool Calling in LangChain\n",
    "\n",
    "* Tool Creation\n",
    "* Tool Binding\n",
    "    * Test Tool Binding Result\n",
    "* Append Tool Result for LLM Execution"
   ]
  },
  {
   "cell_type": "code",
   "execution_count": 1,
   "id": "a893c91f",
   "metadata": {},
   "outputs": [
    {
     "data": {
      "text/plain": [
       "True"
      ]
     },
     "execution_count": 1,
     "metadata": {},
     "output_type": "execute_result"
    }
   ],
   "source": [
    "from dotenv import load_dotenv\n",
    "\n",
    "# Load environment variables\n",
    "load_dotenv()"
   ]
  },
  {
   "cell_type": "code",
   "execution_count": 2,
   "id": "0f026fab",
   "metadata": {},
   "outputs": [],
   "source": [
    "from langchain_openai import ChatOpenAI\n",
    "from langchain_core.tools import tool\n",
    "from langchain_core.messages import HumanMessage\n",
    "import requests"
   ]
  },
  {
   "cell_type": "markdown",
   "id": "6edd9f1b",
   "metadata": {},
   "source": [
    "## **Step 1:** Tools Creation"
   ]
  },
  {
   "cell_type": "code",
   "execution_count": null,
   "id": "d2d40592",
   "metadata": {},
   "outputs": [],
   "source": [
    "# tool create\n",
    "import os\n",
    "from typing import Annotated\n",
    "from langchain_core.tools import InjectedToolArg\n",
    "EXCHANGE_RATE_API_KEY = os.getenv(\"EXCHANGE_RATE_API_KEY\")\n",
    "\n",
    "@tool\n",
    "def get_conversion_factor(base_currency: str, target_currency: str) -> float:\n",
    "    \"\"\" This tool fetches the conversion factor between two currencies using an external API.\n",
    "    \"\"\"\n",
    "    url = f\"https://v6.exchangerate-api.com/v6/{EXCHANGE_RATE_API_KEY}/pair/{base_currency}/{target_currency}\"\n",
    "    response = requests.get(url)\n",
    "    return response.json()[\"conversion_rate\"]\n",
    "\n",
    "@tool\n",
    "def convert_currency(base_currency_value: int, conversion_factor: Annotated[float, InjectedToolArg]) -> float:\n",
    "    \"\"\" This function converts the base currency to the target currency using the conversion factor.\n",
    "    \"\"\"\n",
    "    return round(base_currency_value * conversion_factor,2)"
   ]
  },
  {
   "cell_type": "markdown",
   "id": "244f07f3",
   "metadata": {},
   "source": [
    "### Tools Testing to see if they work individually"
   ]
  },
  {
   "cell_type": "code",
   "execution_count": 4,
   "id": "db1c4338",
   "metadata": {},
   "outputs": [
    {
     "data": {
      "text/plain": [
       "282.0785"
      ]
     },
     "execution_count": 4,
     "metadata": {},
     "output_type": "execute_result"
    }
   ],
   "source": [
    "get_conversion_factor.invoke({'base_currency':'USD', 'target_currency':'PKR'})"
   ]
  },
  {
   "cell_type": "code",
   "execution_count": 7,
   "id": "76f7af8b",
   "metadata": {},
   "outputs": [
    {
     "data": {
      "text/plain": [
       "2820.79"
      ]
     },
     "execution_count": 7,
     "metadata": {},
     "output_type": "execute_result"
    }
   ],
   "source": [
    "convert_currency.invoke({'base_currency_value':10, 'conversion_factor':282.0785})"
   ]
  },
  {
   "cell_type": "markdown",
   "id": "85e5ea6f",
   "metadata": {},
   "source": [
    "## **Step 2:** Tool Binding"
   ]
  },
  {
   "cell_type": "code",
   "execution_count": 4,
   "id": "de1bfc65",
   "metadata": {},
   "outputs": [],
   "source": [
    "# Create LLM Instance\n",
    "llm = ChatOpenAI(model=\"gpt-4o-mini\", temperature=0)\n",
    "\n",
    "# Bind the tool to the LLM\n",
    "llm_with_tools = llm.bind_tools([get_conversion_factor, convert_currency])"
   ]
  },
  {
   "cell_type": "code",
   "execution_count": 5,
   "id": "109e2299",
   "metadata": {},
   "outputs": [
    {
     "name": "stdout",
     "output_type": "stream",
     "text": [
      "[HumanMessage(content='What is the conversion factor between USD and PKR, and based on that can you convert 10 USD to PKR', additional_kwargs={}, response_metadata={})]\n"
     ]
    }
   ],
   "source": [
    "# Use \"Messages\" to use the LLM with tools\n",
    "\n",
    "query = HumanMessage('What is the conversion factor between USD and PKR, and based on that can you convert 10 USD to PKR')\n",
    "messages = [query]\n",
    "print(messages)"
   ]
  },
  {
   "cell_type": "code",
   "execution_count": 6,
   "id": "f6521e25",
   "metadata": {},
   "outputs": [
    {
     "name": "stdout",
     "output_type": "stream",
     "text": [
      "content='' additional_kwargs={'tool_calls': [{'id': 'call_uONDeZsHtRaU0Sta9BdYm1Lj', 'function': {'arguments': '{\"base_currency\":\"USD\",\"target_currency\":\"PKR\"}', 'name': 'get_conversion_factor'}, 'type': 'function'}], 'refusal': None} response_metadata={'token_usage': {'completion_tokens': 23, 'prompt_tokens': 119, 'total_tokens': 142, 'completion_tokens_details': {'accepted_prediction_tokens': 0, 'audio_tokens': 0, 'reasoning_tokens': 0, 'rejected_prediction_tokens': 0}, 'prompt_tokens_details': {'audio_tokens': 0, 'cached_tokens': 0}}, 'model_name': 'gpt-4o-mini-2024-07-18', 'system_fingerprint': 'fp_0392822090', 'id': 'chatcmpl-BVKRhXbHX7FHk2ILpQbjUqBlV3N2d', 'finish_reason': 'tool_calls', 'logprobs': None} id='run-a27b49b0-845e-4be9-9677-1ce54abdd1f0-0' tool_calls=[{'name': 'get_conversion_factor', 'args': {'base_currency': 'USD', 'target_currency': 'PKR'}, 'id': 'call_uONDeZsHtRaU0Sta9BdYm1Lj', 'type': 'tool_call'}] usage_metadata={'input_tokens': 119, 'output_tokens': 23, 'total_tokens': 142, 'input_token_details': {'audio': 0, 'cache_read': 0}, 'output_token_details': {'audio': 0, 'reasoning': 0}}\n"
     ]
    }
   ],
   "source": [
    "result = llm_with_tools.invoke(messages)\n",
    "\n",
    "# LLM will call \"Tool\" instead of giving us some text \n",
    "print(result)\n",
    "messages.append(result)"
   ]
  },
  {
   "cell_type": "code",
   "execution_count": 7,
   "id": "e245198b",
   "metadata": {},
   "outputs": [
    {
     "data": {
      "text/plain": [
       "[{'name': 'get_conversion_factor',\n",
       "  'args': {'base_currency': 'USD', 'target_currency': 'PKR'},\n",
       "  'id': 'call_uONDeZsHtRaU0Sta9BdYm1Lj',\n",
       "  'type': 'tool_call'}]"
      ]
     },
     "execution_count": 7,
     "metadata": {},
     "output_type": "execute_result"
    }
   ],
   "source": [
    "result.tool_calls"
   ]
  },
  {
   "cell_type": "code",
   "execution_count": 8,
   "id": "5ae7be50",
   "metadata": {},
   "outputs": [
    {
     "data": {
      "text/plain": [
       "[HumanMessage(content='What is the conversion factor between USD and PKR, and based on that can you convert 10 USD to PKR', additional_kwargs={}, response_metadata={}),\n",
       " AIMessage(content='', additional_kwargs={'tool_calls': [{'id': 'call_uONDeZsHtRaU0Sta9BdYm1Lj', 'function': {'arguments': '{\"base_currency\":\"USD\",\"target_currency\":\"PKR\"}', 'name': 'get_conversion_factor'}, 'type': 'function'}], 'refusal': None}, response_metadata={'token_usage': {'completion_tokens': 23, 'prompt_tokens': 119, 'total_tokens': 142, 'completion_tokens_details': {'accepted_prediction_tokens': 0, 'audio_tokens': 0, 'reasoning_tokens': 0, 'rejected_prediction_tokens': 0}, 'prompt_tokens_details': {'audio_tokens': 0, 'cached_tokens': 0}}, 'model_name': 'gpt-4o-mini-2024-07-18', 'system_fingerprint': 'fp_0392822090', 'id': 'chatcmpl-BVKRhXbHX7FHk2ILpQbjUqBlV3N2d', 'finish_reason': 'tool_calls', 'logprobs': None}, id='run-a27b49b0-845e-4be9-9677-1ce54abdd1f0-0', tool_calls=[{'name': 'get_conversion_factor', 'args': {'base_currency': 'USD', 'target_currency': 'PKR'}, 'id': 'call_uONDeZsHtRaU0Sta9BdYm1Lj', 'type': 'tool_call'}], usage_metadata={'input_tokens': 119, 'output_tokens': 23, 'total_tokens': 142, 'input_token_details': {'audio': 0, 'cache_read': 0}, 'output_token_details': {'audio': 0, 'reasoning': 0}})]"
      ]
     },
     "execution_count": 8,
     "metadata": {},
     "output_type": "execute_result"
    }
   ],
   "source": [
    "# Messages contains the tool call with its specific format\n",
    "messages"
   ]
  },
  {
   "cell_type": "markdown",
   "id": "bd357108",
   "metadata": {},
   "source": [
    "## **Step 2.1:** Tool Call "
   ]
  },
  {
   "cell_type": "code",
   "execution_count": 9,
   "id": "dc047cee",
   "metadata": {},
   "outputs": [
    {
     "data": {
      "text/plain": [
       "[HumanMessage(content='What is the conversion factor between USD and PKR, and based on that can you convert 10 USD to PKR', additional_kwargs={}, response_metadata={}),\n",
       " AIMessage(content='', additional_kwargs={'tool_calls': [{'id': 'call_uONDeZsHtRaU0Sta9BdYm1Lj', 'function': {'arguments': '{\"base_currency\":\"USD\",\"target_currency\":\"PKR\"}', 'name': 'get_conversion_factor'}, 'type': 'function'}], 'refusal': None}, response_metadata={'token_usage': {'completion_tokens': 23, 'prompt_tokens': 119, 'total_tokens': 142, 'completion_tokens_details': {'accepted_prediction_tokens': 0, 'audio_tokens': 0, 'reasoning_tokens': 0, 'rejected_prediction_tokens': 0}, 'prompt_tokens_details': {'audio_tokens': 0, 'cached_tokens': 0}}, 'model_name': 'gpt-4o-mini-2024-07-18', 'system_fingerprint': 'fp_0392822090', 'id': 'chatcmpl-BVKRhXbHX7FHk2ILpQbjUqBlV3N2d', 'finish_reason': 'tool_calls', 'logprobs': None}, id='run-a27b49b0-845e-4be9-9677-1ce54abdd1f0-0', tool_calls=[{'name': 'get_conversion_factor', 'args': {'base_currency': 'USD', 'target_currency': 'PKR'}, 'id': 'call_uONDeZsHtRaU0Sta9BdYm1Lj', 'type': 'tool_call'}], usage_metadata={'input_tokens': 119, 'output_tokens': 23, 'total_tokens': 142, 'input_token_details': {'audio': 0, 'cache_read': 0}, 'output_token_details': {'audio': 0, 'reasoning': 0}}),\n",
       " ToolMessage(content='282.0785', name='get_conversion_factor', tool_call_id='call_uONDeZsHtRaU0Sta9BdYm1Lj')]"
      ]
     },
     "execution_count": 9,
     "metadata": {},
     "output_type": "execute_result"
    }
   ],
   "source": [
    "for tool_call in result.tool_calls:\n",
    "    selected_tool = {\"get_conversion_factor\": get_conversion_factor, \"convert_currency\": convert_currency}[tool_call[\"name\"].lower()]\n",
    "    tool_msg = selected_tool.invoke(tool_call)\n",
    "    messages.append(tool_msg)\n",
    "\n",
    "messages"
   ]
  },
  {
   "cell_type": "code",
   "execution_count": 10,
   "id": "983b7d70",
   "metadata": {},
   "outputs": [
    {
     "data": {
      "text/plain": [
       "AIMessage(content='', additional_kwargs={'tool_calls': [{'id': 'call_2XAvfQsC4zhhyLLYHBHuknYR', 'function': {'arguments': '{\"base_currency_value\":10,\"conversion_factor\":282.0785}', 'name': 'convert_currency'}, 'type': 'function'}], 'refusal': None}, response_metadata={'token_usage': {'completion_tokens': 25, 'prompt_tokens': 154, 'total_tokens': 179, 'completion_tokens_details': {'accepted_prediction_tokens': 0, 'audio_tokens': 0, 'reasoning_tokens': 0, 'rejected_prediction_tokens': 0}, 'prompt_tokens_details': {'audio_tokens': 0, 'cached_tokens': 0}}, 'model_name': 'gpt-4o-mini-2024-07-18', 'system_fingerprint': 'fp_0392822090', 'id': 'chatcmpl-BVKSNQrUr5iN2iCXAjID14tQezgIm', 'finish_reason': 'tool_calls', 'logprobs': None}, id='run-9c9f0820-440f-409b-a378-44b9c7d94c40-0', tool_calls=[{'name': 'convert_currency', 'args': {'base_currency_value': 10, 'conversion_factor': 282.0785}, 'id': 'call_2XAvfQsC4zhhyLLYHBHuknYR', 'type': 'tool_call'}], usage_metadata={'input_tokens': 154, 'output_tokens': 25, 'total_tokens': 179, 'input_token_details': {'audio': 0, 'cache_read': 0}, 'output_token_details': {'audio': 0, 'reasoning': 0}})"
      ]
     },
     "execution_count": 10,
     "metadata": {},
     "output_type": "execute_result"
    }
   ],
   "source": [
    "llm_with_tools.invoke(messages)"
   ]
  },
  {
   "cell_type": "code",
   "execution_count": null,
   "id": "64e02e52",
   "metadata": {},
   "outputs": [],
   "source": []
  }
 ],
 "metadata": {
  "kernelspec": {
   "display_name": "llm_environment",
   "language": "python",
   "name": "python3"
  },
  "language_info": {
   "codemirror_mode": {
    "name": "ipython",
    "version": 3
   },
   "file_extension": ".py",
   "mimetype": "text/x-python",
   "name": "python",
   "nbconvert_exporter": "python",
   "pygments_lexer": "ipython3",
   "version": "3.11.9"
  }
 },
 "nbformat": 4,
 "nbformat_minor": 5
}
