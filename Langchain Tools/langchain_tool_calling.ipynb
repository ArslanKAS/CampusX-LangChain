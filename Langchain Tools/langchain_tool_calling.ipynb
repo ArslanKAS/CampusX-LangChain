{
 "cells": [
  {
   "cell_type": "markdown",
   "id": "cc724012",
   "metadata": {},
   "source": [
    "# Tool Calling in LangChain\n",
    "\n",
    "* Tool Creation\n",
    "* Tool Binding\n",
    "    * Test Tool Binding Result\n",
    "* Append Tool Result for LLM Execution"
   ]
  },
  {
   "cell_type": "code",
   "execution_count": 1,
   "id": "a893c91f",
   "metadata": {},
   "outputs": [
    {
     "data": {
      "text/plain": [
       "True"
      ]
     },
     "execution_count": 1,
     "metadata": {},
     "output_type": "execute_result"
    }
   ],
   "source": [
    "from dotenv import load_dotenv\n",
    "\n",
    "# Load environment variables\n",
    "load_dotenv()"
   ]
  },
  {
   "cell_type": "code",
   "execution_count": 2,
   "id": "0f026fab",
   "metadata": {},
   "outputs": [],
   "source": [
    "from langchain_openai import ChatOpenAI\n",
    "from langchain_core.tools import tool\n",
    "from langchain_core.messages import HumanMessage\n",
    "import requests"
   ]
  },
  {
   "cell_type": "markdown",
   "id": "6edd9f1b",
   "metadata": {},
   "source": [
    "## **Step 1:** Tool Creation"
   ]
  },
  {
   "cell_type": "code",
   "execution_count": 3,
   "id": "d2d40592",
   "metadata": {},
   "outputs": [],
   "source": [
    "# tool create\n",
    "\n",
    "@tool\n",
    "def multiply(a: int, b: int) -> int:\n",
    "  \"\"\"Given 2 numbers a and b this tool returns their product\"\"\"\n",
    "  return a * b"
   ]
  },
  {
   "cell_type": "code",
   "execution_count": 4,
   "id": "fc020980",
   "metadata": {},
   "outputs": [
    {
     "name": "stdout",
     "output_type": "stream",
     "text": [
      "12\n"
     ]
    }
   ],
   "source": [
    "# Tool Testing to see if it works\n",
    "print(multiply.invoke({'a':3, 'b':4}))"
   ]
  },
  {
   "cell_type": "code",
   "execution_count": null,
   "id": "509e88f5",
   "metadata": {},
   "outputs": [
    {
     "name": "stdout",
     "output_type": "stream",
     "text": [
      "multiply\n",
      "Given 2 numbers a and b this tool returns their product\n",
      "{'a': {'title': 'A', 'type': 'integer'}, 'b': {'title': 'B', 'type': 'integer'}}\n"
     ]
    }
   ],
   "source": [
    "# Tool Info\n",
    "\n",
    "print(multiply.name)\n",
    "print(multiply.description)\n",
    "print(multiply.args)"
   ]
  },
  {
   "cell_type": "markdown",
   "id": "85e5ea6f",
   "metadata": {},
   "source": [
    "## **Step 2:** Tool Binding"
   ]
  },
  {
   "cell_type": "code",
   "execution_count": 7,
   "id": "de1bfc65",
   "metadata": {},
   "outputs": [],
   "source": [
    "# Create LLM Instance\n",
    "llm = ChatOpenAI(model=\"gpt-4o-mini\", temperature=0)\n",
    "\n",
    "# Bind the tool to the LLM\n",
    "llm_with_tools = llm.bind_tools([multiply])"
   ]
  },
  {
   "cell_type": "code",
   "execution_count": 8,
   "id": "109e2299",
   "metadata": {},
   "outputs": [
    {
     "name": "stdout",
     "output_type": "stream",
     "text": [
      "[HumanMessage(content='Can you multiply 3 with 5?', additional_kwargs={}, response_metadata={})]\n"
     ]
    }
   ],
   "source": [
    "# Use \"Messages\" to use the LLM with tools\n",
    "\n",
    "query = HumanMessage('Can you multiply 3 with 5?')\n",
    "messages = [query]\n",
    "print(messages)"
   ]
  },
  {
   "cell_type": "code",
   "execution_count": null,
   "id": "f6521e25",
   "metadata": {},
   "outputs": [
    {
     "name": "stdout",
     "output_type": "stream",
     "text": [
      "content='' additional_kwargs={'tool_calls': [{'id': 'call_hJxkmKRQvAYKOJSeyiHha9rk', 'function': {'arguments': '{\"a\":3,\"b\":5}', 'name': 'multiply'}, 'type': 'function'}], 'refusal': None} response_metadata={'token_usage': {'completion_tokens': 18, 'prompt_tokens': 62, 'total_tokens': 80, 'completion_tokens_details': {'accepted_prediction_tokens': 0, 'audio_tokens': 0, 'reasoning_tokens': 0, 'rejected_prediction_tokens': 0}, 'prompt_tokens_details': {'audio_tokens': 0, 'cached_tokens': 0}}, 'model_name': 'gpt-4o-mini-2024-07-18', 'system_fingerprint': 'fp_dbaca60df0', 'id': 'chatcmpl-BVJMaG8RKTp6MCGKKNat9rlQrIzKb', 'finish_reason': 'tool_calls', 'logprobs': None} id='run-6e4a6564-3334-4419-a7b1-2a647f41fb90-0' tool_calls=[{'name': 'multiply', 'args': {'a': 3, 'b': 5}, 'id': 'call_hJxkmKRQvAYKOJSeyiHha9rk', 'type': 'tool_call'}] usage_metadata={'input_tokens': 62, 'output_tokens': 18, 'total_tokens': 80, 'input_token_details': {'audio': 0, 'cache_read': 0}, 'output_token_details': {'audio': 0, 'reasoning': 0}}\n"
     ]
    }
   ],
   "source": [
    "result = llm_with_tools.invoke(messages)\n",
    "\n",
    "# LLM will call \"Tool\" instead of giving us some text \n",
    "print(result)\n",
    "messages.append(result)"
   ]
  },
  {
   "cell_type": "code",
   "execution_count": 12,
   "id": "e245198b",
   "metadata": {},
   "outputs": [
    {
     "data": {
      "text/plain": [
       "{'name': 'multiply',\n",
       " 'args': {'a': 3, 'b': 5},\n",
       " 'id': 'call_hJxkmKRQvAYKOJSeyiHha9rk',\n",
       " 'type': 'tool_call'}"
      ]
     },
     "execution_count": 12,
     "metadata": {},
     "output_type": "execute_result"
    }
   ],
   "source": [
    "result.tool_calls[0]"
   ]
  },
  {
   "cell_type": "code",
   "execution_count": null,
   "id": "5ae7be50",
   "metadata": {},
   "outputs": [
    {
     "data": {
      "text/plain": [
       "[HumanMessage(content='Can you multiply 3 with 5?', additional_kwargs={}, response_metadata={}),\n",
       " AIMessage(content='', additional_kwargs={'tool_calls': [{'id': 'call_hJxkmKRQvAYKOJSeyiHha9rk', 'function': {'arguments': '{\"a\":3,\"b\":5}', 'name': 'multiply'}, 'type': 'function'}], 'refusal': None}, response_metadata={'token_usage': {'completion_tokens': 18, 'prompt_tokens': 62, 'total_tokens': 80, 'completion_tokens_details': {'accepted_prediction_tokens': 0, 'audio_tokens': 0, 'reasoning_tokens': 0, 'rejected_prediction_tokens': 0}, 'prompt_tokens_details': {'audio_tokens': 0, 'cached_tokens': 0}}, 'model_name': 'gpt-4o-mini-2024-07-18', 'system_fingerprint': 'fp_dbaca60df0', 'id': 'chatcmpl-BVJMaG8RKTp6MCGKKNat9rlQrIzKb', 'finish_reason': 'tool_calls', 'logprobs': None}, id='run-6e4a6564-3334-4419-a7b1-2a647f41fb90-0', tool_calls=[{'name': 'multiply', 'args': {'a': 3, 'b': 5}, 'id': 'call_hJxkmKRQvAYKOJSeyiHha9rk', 'type': 'tool_call'}], usage_metadata={'input_tokens': 62, 'output_tokens': 18, 'total_tokens': 80, 'input_token_details': {'audio': 0, 'cache_read': 0}, 'output_token_details': {'audio': 0, 'reasoning': 0}})]"
      ]
     },
     "metadata": {},
     "output_type": "display_data"
    }
   ],
   "source": [
    "# Messages contains the tool call with its specific format\n",
    "display(messages)"
   ]
  },
  {
   "cell_type": "markdown",
   "id": "bd357108",
   "metadata": {},
   "source": [
    "## **Step 2.1 (Optional):** Tool Call Checking"
   ]
  },
  {
   "cell_type": "code",
   "execution_count": 14,
   "id": "7c769968",
   "metadata": {},
   "outputs": [
    {
     "data": {
      "text/plain": [
       "ToolMessage(content='15', name='multiply', tool_call_id='call_hJxkmKRQvAYKOJSeyiHha9rk')"
      ]
     },
     "execution_count": 14,
     "metadata": {},
     "output_type": "execute_result"
    }
   ],
   "source": [
    "# To check if our tool can actually run the instructions given out by LLM\n",
    "tool_result = multiply.invoke(result.tool_calls[0])\n",
    "tool_result"
   ]
  },
  {
   "cell_type": "markdown",
   "id": "3f6f080a",
   "metadata": {},
   "source": [
    "## **Step 3:** Append Tool Result for LLM Execution "
   ]
  },
  {
   "cell_type": "code",
   "execution_count": 15,
   "id": "1afa4a3b",
   "metadata": {},
   "outputs": [
    {
     "data": {
      "text/plain": [
       "[HumanMessage(content='Can you multiply 3 with 5?', additional_kwargs={}, response_metadata={}),\n",
       " AIMessage(content='', additional_kwargs={'tool_calls': [{'id': 'call_hJxkmKRQvAYKOJSeyiHha9rk', 'function': {'arguments': '{\"a\":3,\"b\":5}', 'name': 'multiply'}, 'type': 'function'}], 'refusal': None}, response_metadata={'token_usage': {'completion_tokens': 18, 'prompt_tokens': 62, 'total_tokens': 80, 'completion_tokens_details': {'accepted_prediction_tokens': 0, 'audio_tokens': 0, 'reasoning_tokens': 0, 'rejected_prediction_tokens': 0}, 'prompt_tokens_details': {'audio_tokens': 0, 'cached_tokens': 0}}, 'model_name': 'gpt-4o-mini-2024-07-18', 'system_fingerprint': 'fp_dbaca60df0', 'id': 'chatcmpl-BVJMaG8RKTp6MCGKKNat9rlQrIzKb', 'finish_reason': 'tool_calls', 'logprobs': None}, id='run-6e4a6564-3334-4419-a7b1-2a647f41fb90-0', tool_calls=[{'name': 'multiply', 'args': {'a': 3, 'b': 5}, 'id': 'call_hJxkmKRQvAYKOJSeyiHha9rk', 'type': 'tool_call'}], usage_metadata={'input_tokens': 62, 'output_tokens': 18, 'total_tokens': 80, 'input_token_details': {'audio': 0, 'cache_read': 0}, 'output_token_details': {'audio': 0, 'reasoning': 0}}),\n",
       " ToolMessage(content='15', name='multiply', tool_call_id='call_hJxkmKRQvAYKOJSeyiHha9rk')]"
      ]
     },
     "execution_count": 15,
     "metadata": {},
     "output_type": "execute_result"
    }
   ],
   "source": [
    "messages.append(tool_result)\n",
    "messages"
   ]
  },
  {
   "cell_type": "code",
   "execution_count": 16,
   "id": "983b7d70",
   "metadata": {},
   "outputs": [
    {
     "data": {
      "text/plain": [
       "'The product of 3 and 5 is 15.'"
      ]
     },
     "execution_count": 16,
     "metadata": {},
     "output_type": "execute_result"
    }
   ],
   "source": [
    "llm_with_tools.invoke(messages).content"
   ]
  }
 ],
 "metadata": {
  "kernelspec": {
   "display_name": "llm_environment",
   "language": "python",
   "name": "python3"
  },
  "language_info": {
   "codemirror_mode": {
    "name": "ipython",
    "version": 3
   },
   "file_extension": ".py",
   "mimetype": "text/x-python",
   "name": "python",
   "nbconvert_exporter": "python",
   "pygments_lexer": "ipython3",
   "version": "3.11.9"
  }
 },
 "nbformat": 4,
 "nbformat_minor": 5
}
