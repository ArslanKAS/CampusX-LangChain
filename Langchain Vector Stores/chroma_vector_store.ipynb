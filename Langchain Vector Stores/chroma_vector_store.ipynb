{
 "cells": [
  {
   "cell_type": "markdown",
   "id": "1140bab3",
   "metadata": {},
   "source": [
    "## Install Libraries"
   ]
  },
  {
   "cell_type": "code",
   "execution_count": null,
   "id": "e96af22e",
   "metadata": {},
   "outputs": [],
   "source": [
    "# !pip install langchain chromadb openai tiktoken pypdf langchain_openai langchain-community -q"
   ]
  },
  {
   "cell_type": "markdown",
   "id": "e313266e",
   "metadata": {},
   "source": [
    "## Import Libraries"
   ]
  },
  {
   "cell_type": "code",
   "execution_count": 1,
   "id": "1cb0778f",
   "metadata": {},
   "outputs": [
    {
     "data": {
      "text/plain": [
       "True"
      ]
     },
     "execution_count": 1,
     "metadata": {},
     "output_type": "execute_result"
    }
   ],
   "source": [
    "from dotenv import load_dotenv\n",
    "from langchain.schema import Document\n",
    "from langchain_openai import OpenAIEmbeddings\n",
    "from langchain_chroma import Chroma\n",
    "\n",
    "load_dotenv()\n"
   ]
  },
  {
   "cell_type": "markdown",
   "id": "265b0a42",
   "metadata": {},
   "source": [
    "## Docs"
   ]
  },
  {
   "cell_type": "code",
   "execution_count": 2,
   "id": "bcf01b32",
   "metadata": {},
   "outputs": [
    {
     "name": "stdout",
     "output_type": "stream",
     "text": [
      "[Document(metadata={'food': 'Biryani'}, page_content=\"Karachi is the largest city in Pakistan, known for its vibrant culture, bustling markets, and beautiful beaches like Clifton. It serves as the country's economic hub and is famous for its diverse cuisine.\"), Document(metadata={'food': 'Nihari'}, page_content='Lahore, the heart of Pakistan, is known for its rich history, Mughal architecture, and lively atmosphere. The city is a cultural capital and offers iconic landmarks like the Badshahi Mosque and Lahore Fort.'), Document(metadata={'food': 'Chapli Kebab'}, page_content='Islamabad, the capital city of Pakistan, is renowned for its scenic beauty, organized structure, and landmarks like Faisal Mosque and Daman-e-Koh. It offers a serene contrast to the hustle of major cities.'), Document(metadata={'food': 'Samosa'}, page_content=\"Faisalabad is a major industrial center in Pakistan, often referred to as the 'Manchester of Pakistan' for its textile production. It has a strong entrepreneurial spirit and growing urban life.\"), Document(metadata={'food': 'Chappal Kebab'}, page_content='Peshawar, one of the oldest cities in South Asia, reflects a rich blend of culture and history. Its historic Qissa Khawani Bazaar and traditional hospitality are famous.')]\n"
     ]
    }
   ],
   "source": [
    "doc1 = Document(\n",
    "    page_content=\"Karachi is the largest city in Pakistan, known for its vibrant culture, bustling markets, and beautiful beaches like Clifton. It serves as the country's economic hub and is famous for its diverse cuisine.\",\n",
    "    metadata={\"food\": \"Biryani\"}\n",
    ")\n",
    "\n",
    "doc2 = Document(\n",
    "    page_content=\"Lahore, the heart of Pakistan, is known for its rich history, Mughal architecture, and lively atmosphere. The city is a cultural capital and offers iconic landmarks like the Badshahi Mosque and Lahore Fort.\",\n",
    "    metadata={\"food\": \"Nihari\"}\n",
    ")\n",
    "\n",
    "doc3 = Document(\n",
    "    page_content=\"Islamabad, the capital city of Pakistan, is renowned for its scenic beauty, organized structure, and landmarks like Faisal Mosque and Daman-e-Koh. It offers a serene contrast to the hustle of major cities.\",\n",
    "    metadata={\"food\": \"Chapli Kebab\"}\n",
    ")\n",
    "\n",
    "doc4 = Document(\n",
    "    page_content=\"Faisalabad is a major industrial center in Pakistan, often referred to as the 'Manchester of Pakistan' for its textile production. It has a strong entrepreneurial spirit and growing urban life.\",\n",
    "    metadata={\"food\": \"Samosa\"}\n",
    ")\n",
    "\n",
    "doc5 = Document(\n",
    "    page_content=\"Peshawar, one of the oldest cities in South Asia, reflects a rich blend of culture and history. Its historic Qissa Khawani Bazaar and traditional hospitality are famous.\",\n",
    "    metadata={\"food\": \"Chappal Kebab\"}\n",
    ")\n",
    "\n",
    "docs = [doc1, doc2, doc3, doc4, doc5]\n",
    "\n",
    "print(docs)"
   ]
  },
  {
   "cell_type": "markdown",
   "id": "f7842c98",
   "metadata": {},
   "source": [
    "## Chroma Settings"
   ]
  },
  {
   "cell_type": "code",
   "execution_count": 3,
   "id": "42fdc073",
   "metadata": {},
   "outputs": [],
   "source": [
    "vector_store = Chroma(\n",
    "    embedding_function=OpenAIEmbeddings(),\n",
    "    persist_directory='my_chroma_db',\n",
    "    collection_name='sample'\n",
    ")"
   ]
  },
  {
   "cell_type": "markdown",
   "id": "c84e9e4a",
   "metadata": {},
   "source": [
    "## CRUD Operations on Chroma Vector Store"
   ]
  },
  {
   "cell_type": "markdown",
   "id": "81b88cf1",
   "metadata": {},
   "source": [
    "### **Create** (Add) Documents"
   ]
  },
  {
   "cell_type": "code",
   "execution_count": 4,
   "id": "310fde0d",
   "metadata": {},
   "outputs": [
    {
     "data": {
      "text/plain": [
       "['70bd95fb-b10e-4e8c-bc49-594727f17755',\n",
       " '11c3b2f8-8caa-4e4b-b0f9-3fa92942954a',\n",
       " 'eb4338be-4836-43ce-9d19-41cd4589ab65',\n",
       " '0df8cd73-dda4-46fe-bc15-6456f050e30a',\n",
       " '77b8f481-14d6-4930-89ab-620232316680']"
      ]
     },
     "execution_count": 4,
     "metadata": {},
     "output_type": "execute_result"
    }
   ],
   "source": [
    "# add documents\n",
    "vector_store.add_documents(docs)"
   ]
  },
  {
   "cell_type": "markdown",
   "id": "912e959a",
   "metadata": {},
   "source": [
    "### **Read** (Get) Documents\n",
    "* View\n",
    "* Search\n",
    "* Filter"
   ]
  },
  {
   "cell_type": "markdown",
   "id": "fd929efb",
   "metadata": {},
   "source": [
    "#### 1. View Document"
   ]
  },
  {
   "cell_type": "code",
   "execution_count": 5,
   "id": "8f74dfda",
   "metadata": {},
   "outputs": [
    {
     "data": {
      "text/plain": [
       "{'ids': ['70bd95fb-b10e-4e8c-bc49-594727f17755',\n",
       "  '11c3b2f8-8caa-4e4b-b0f9-3fa92942954a',\n",
       "  'eb4338be-4836-43ce-9d19-41cd4589ab65',\n",
       "  '0df8cd73-dda4-46fe-bc15-6456f050e30a',\n",
       "  '77b8f481-14d6-4930-89ab-620232316680'],\n",
       " 'embeddings': array([[ 9.08074249e-03,  3.83967743e-03,  2.22462486e-03, ...,\n",
       "         -2.06594751e-03, -1.59997027e-02, -2.27489881e-02],\n",
       "        [ 1.20303109e-02,  1.41005851e-02, -5.36109437e-04, ...,\n",
       "         -1.14717160e-03,  1.01746386e-02, -2.51967479e-02],\n",
       "        [-4.66658128e-03,  5.06548816e-03, -5.13197295e-03, ...,\n",
       "          3.60916043e-03, -1.09161269e-02, -3.10007874e-02],\n",
       "        [-7.76014477e-03, -2.32478278e-03, -9.19479318e-03, ...,\n",
       "          2.36977860e-02,  7.09682354e-05, -2.62149423e-02],\n",
       "        [ 1.69164743e-02,  1.46452803e-02,  1.06380600e-02, ...,\n",
       "         -8.25489842e-05, -1.89918745e-03, -1.04031097e-02]],\n",
       "       shape=(5, 1536)),\n",
       " 'documents': [\"Karachi is the largest city in Pakistan, known for its vibrant culture, bustling markets, and beautiful beaches like Clifton. It serves as the country's economic hub and is famous for its diverse cuisine.\",\n",
       "  'Lahore, the heart of Pakistan, is known for its rich history, Mughal architecture, and lively atmosphere. The city is a cultural capital and offers iconic landmarks like the Badshahi Mosque and Lahore Fort.',\n",
       "  'Islamabad, the capital city of Pakistan, is renowned for its scenic beauty, organized structure, and landmarks like Faisal Mosque and Daman-e-Koh. It offers a serene contrast to the hustle of major cities.',\n",
       "  \"Faisalabad is a major industrial center in Pakistan, often referred to as the 'Manchester of Pakistan' for its textile production. It has a strong entrepreneurial spirit and growing urban life.\",\n",
       "  'Peshawar, one of the oldest cities in South Asia, reflects a rich blend of culture and history. Its historic Qissa Khawani Bazaar and traditional hospitality are famous.'],\n",
       " 'uris': None,\n",
       " 'data': None,\n",
       " 'metadatas': [{'food': 'Biryani'},\n",
       "  {'food': 'Nihari'},\n",
       "  {'food': 'Chapli Kebab'},\n",
       "  {'food': 'Samosa'},\n",
       "  {'food': 'Chappal Kebab'}],\n",
       " 'included': [<IncludeEnum.embeddings: 'embeddings'>,\n",
       "  <IncludeEnum.documents: 'documents'>,\n",
       "  <IncludeEnum.metadatas: 'metadatas'>]}"
      ]
     },
     "execution_count": 5,
     "metadata": {},
     "output_type": "execute_result"
    }
   ],
   "source": [
    "# view documents\n",
    "vector_store.get(include=['embeddings','documents', 'metadatas'])"
   ]
  },
  {
   "cell_type": "markdown",
   "id": "c72fe6c6",
   "metadata": {},
   "source": [
    "#### 2. Search Documents"
   ]
  },
  {
   "cell_type": "code",
   "execution_count": 8,
   "id": "fed9295d",
   "metadata": {},
   "outputs": [
    {
     "data": {
      "text/plain": [
       "[Document(id='70bd95fb-b10e-4e8c-bc49-594727f17755', metadata={'food': 'Biryani'}, page_content=\"Karachi is the largest city in Pakistan, known for its vibrant culture, bustling markets, and beautiful beaches like Clifton. It serves as the country's economic hub and is famous for its diverse cuisine.\"),\n",
       " Document(id='77b8f481-14d6-4930-89ab-620232316680', metadata={'food': 'Chappal Kebab'}, page_content='Peshawar, one of the oldest cities in South Asia, reflects a rich blend of culture and history. Its historic Qissa Khawani Bazaar and traditional hospitality are famous.')]"
      ]
     },
     "execution_count": 8,
     "metadata": {},
     "output_type": "execute_result"
    }
   ],
   "source": [
    "# search documents\n",
    "vector_store.similarity_search(\n",
    "    query='Who among them has beach?',\n",
    "    k=2\n",
    ")"
   ]
  },
  {
   "cell_type": "code",
   "execution_count": null,
   "id": "eabac397",
   "metadata": {},
   "outputs": [
    {
     "data": {
      "text/plain": [
       "[(Document(id='70bd95fb-b10e-4e8c-bc49-594727f17755', metadata={'food': 'Biryani'}, page_content=\"Karachi is the largest city in Pakistan, known for its vibrant culture, bustling markets, and beautiful beaches like Clifton. It serves as the country's economic hub and is famous for its diverse cuisine.\"),\n",
       "  0.518361083715898),\n",
       " (Document(id='77b8f481-14d6-4930-89ab-620232316680', metadata={'food': 'Chappal Kebab'}, page_content='Peshawar, one of the oldest cities in South Asia, reflects a rich blend of culture and history. Its historic Qissa Khawani Bazaar and traditional hospitality are famous.'),\n",
       "  0.5638381173985383)]"
      ]
     },
     "execution_count": 9,
     "metadata": {},
     "output_type": "execute_result"
    }
   ],
   "source": [
    "# search with similarity score\n",
    "# NOTE: The less the score, the more similar the document is to the query.\n",
    "vector_store.similarity_search_with_score(\n",
    "    query='Who among them has beach?',\n",
    "    k=2\n",
    ")"
   ]
  },
  {
   "cell_type": "markdown",
   "id": "4ffdb8e9",
   "metadata": {},
   "source": [
    "#### 3. Filtering using Metadata"
   ]
  },
  {
   "cell_type": "code",
   "execution_count": 10,
   "id": "a05f4621",
   "metadata": {},
   "outputs": [
    {
     "data": {
      "text/plain": [
       "[(Document(id='0df8cd73-dda4-46fe-bc15-6456f050e30a', metadata={'food': 'Samosa'}, page_content=\"Faisalabad is a major industrial center in Pakistan, often referred to as the 'Manchester of Pakistan' for its textile production. It has a strong entrepreneurial spirit and growing urban life.\"),\n",
       "  0.6689453270979357)]"
      ]
     },
     "execution_count": 10,
     "metadata": {},
     "output_type": "execute_result"
    }
   ],
   "source": [
    "# meta-data filtering\n",
    "vector_store.similarity_search_with_score(\n",
    "    query=\"\",\n",
    "    filter={\"food\": \"Samosa\"},\n",
    ")"
   ]
  },
  {
   "cell_type": "markdown",
   "id": "6af7212f",
   "metadata": {},
   "source": [
    "### **Update** Documents"
   ]
  },
  {
   "cell_type": "code",
   "execution_count": 13,
   "id": "e5b5ba04",
   "metadata": {},
   "outputs": [],
   "source": [
    "# update documents\n",
    "updated_doc_samundri = Document(\n",
    "    page_content=(\n",
    "        \"Samundri is a city in the Faisalabad District of Punjab, Pakistan, \"\n",
    "        \"known for its vibrant agricultural markets, historic mosques, and \"\n",
    "        \"friendly, close-knit community. The city’s weekly bazaars feature \"\n",
    "        \"local farmers trading wheat, sugarcane, and dairy, while its tree-lined \"\n",
    "        \"streets and colonial-era architecture reflect a rich heritage.\"\n",
    "    ),\n",
    "    metadata={\"food\": \"Sohan Halwa\"}\n",
    ")\n",
    "\n",
    "vector_store.update_document(document_id='77b8f481-14d6-4930-89ab-620232316680', document=updated_doc_samundri)\n"
   ]
  },
  {
   "cell_type": "code",
   "execution_count": 14,
   "id": "47deabd5",
   "metadata": {},
   "outputs": [
    {
     "data": {
      "text/plain": [
       "{'ids': ['70bd95fb-b10e-4e8c-bc49-594727f17755',\n",
       "  '11c3b2f8-8caa-4e4b-b0f9-3fa92942954a',\n",
       "  'eb4338be-4836-43ce-9d19-41cd4589ab65',\n",
       "  '0df8cd73-dda4-46fe-bc15-6456f050e30a',\n",
       "  '77b8f481-14d6-4930-89ab-620232316680'],\n",
       " 'embeddings': array([[ 9.08074249e-03,  3.83967743e-03,  2.22462486e-03, ...,\n",
       "         -2.06594751e-03, -1.59997027e-02, -2.27489881e-02],\n",
       "        [ 1.20303109e-02,  1.41005851e-02, -5.36109437e-04, ...,\n",
       "         -1.14717160e-03,  1.01746386e-02, -2.51967479e-02],\n",
       "        [-4.66658128e-03,  5.06548816e-03, -5.13197295e-03, ...,\n",
       "          3.60916043e-03, -1.09161269e-02, -3.10007874e-02],\n",
       "        [-7.76014477e-03, -2.32478278e-03, -9.19479318e-03, ...,\n",
       "          2.36977860e-02,  7.09682354e-05, -2.62149423e-02],\n",
       "        [ 9.61938780e-03, -6.58911653e-03, -1.30272117e-02, ...,\n",
       "         -1.45636871e-02, -2.09591035e-02, -2.02105641e-02]],\n",
       "       shape=(5, 1536)),\n",
       " 'documents': [\"Karachi is the largest city in Pakistan, known for its vibrant culture, bustling markets, and beautiful beaches like Clifton. It serves as the country's economic hub and is famous for its diverse cuisine.\",\n",
       "  'Lahore, the heart of Pakistan, is known for its rich history, Mughal architecture, and lively atmosphere. The city is a cultural capital and offers iconic landmarks like the Badshahi Mosque and Lahore Fort.',\n",
       "  'Islamabad, the capital city of Pakistan, is renowned for its scenic beauty, organized structure, and landmarks like Faisal Mosque and Daman-e-Koh. It offers a serene contrast to the hustle of major cities.',\n",
       "  \"Faisalabad is a major industrial center in Pakistan, often referred to as the 'Manchester of Pakistan' for its textile production. It has a strong entrepreneurial spirit and growing urban life.\",\n",
       "  'Samundri is a city in the Faisalabad District of Punjab, Pakistan, known for its vibrant agricultural markets, historic mosques, and friendly, close-knit community. The city’s weekly bazaars feature local farmers trading wheat, sugarcane, and dairy, while its tree-lined streets and colonial-era architecture reflect a rich heritage.'],\n",
       " 'uris': None,\n",
       " 'data': None,\n",
       " 'metadatas': [{'food': 'Biryani'},\n",
       "  {'food': 'Nihari'},\n",
       "  {'food': 'Chapli Kebab'},\n",
       "  {'food': 'Samosa'},\n",
       "  {'food': 'Sohan Halwa'}],\n",
       " 'included': [<IncludeEnum.embeddings: 'embeddings'>,\n",
       "  <IncludeEnum.documents: 'documents'>,\n",
       "  <IncludeEnum.metadatas: 'metadatas'>]}"
      ]
     },
     "execution_count": 14,
     "metadata": {},
     "output_type": "execute_result"
    }
   ],
   "source": [
    "# view documents\n",
    "vector_store.get(include=['embeddings','documents', 'metadatas'])"
   ]
  },
  {
   "cell_type": "markdown",
   "id": "1aedda33",
   "metadata": {},
   "source": [
    "### **Delete** Documents"
   ]
  },
  {
   "cell_type": "code",
   "execution_count": 15,
   "id": "add4e17c",
   "metadata": {},
   "outputs": [],
   "source": [
    "# delete document\n",
    "vector_store.delete(ids=['77b8f481-14d6-4930-89ab-620232316680'])"
   ]
  },
  {
   "cell_type": "code",
   "execution_count": 16,
   "id": "750cd764",
   "metadata": {},
   "outputs": [
    {
     "data": {
      "text/plain": [
       "{'ids': ['70bd95fb-b10e-4e8c-bc49-594727f17755',\n",
       "  '11c3b2f8-8caa-4e4b-b0f9-3fa92942954a',\n",
       "  'eb4338be-4836-43ce-9d19-41cd4589ab65',\n",
       "  '0df8cd73-dda4-46fe-bc15-6456f050e30a'],\n",
       " 'embeddings': array([[ 9.08074249e-03,  3.83967743e-03,  2.22462486e-03, ...,\n",
       "         -2.06594751e-03, -1.59997027e-02, -2.27489881e-02],\n",
       "        [ 1.20303109e-02,  1.41005851e-02, -5.36109437e-04, ...,\n",
       "         -1.14717160e-03,  1.01746386e-02, -2.51967479e-02],\n",
       "        [-4.66658128e-03,  5.06548816e-03, -5.13197295e-03, ...,\n",
       "          3.60916043e-03, -1.09161269e-02, -3.10007874e-02],\n",
       "        [-7.76014477e-03, -2.32478278e-03, -9.19479318e-03, ...,\n",
       "          2.36977860e-02,  7.09682354e-05, -2.62149423e-02]],\n",
       "       shape=(4, 1536)),\n",
       " 'documents': [\"Karachi is the largest city in Pakistan, known for its vibrant culture, bustling markets, and beautiful beaches like Clifton. It serves as the country's economic hub and is famous for its diverse cuisine.\",\n",
       "  'Lahore, the heart of Pakistan, is known for its rich history, Mughal architecture, and lively atmosphere. The city is a cultural capital and offers iconic landmarks like the Badshahi Mosque and Lahore Fort.',\n",
       "  'Islamabad, the capital city of Pakistan, is renowned for its scenic beauty, organized structure, and landmarks like Faisal Mosque and Daman-e-Koh. It offers a serene contrast to the hustle of major cities.',\n",
       "  \"Faisalabad is a major industrial center in Pakistan, often referred to as the 'Manchester of Pakistan' for its textile production. It has a strong entrepreneurial spirit and growing urban life.\"],\n",
       " 'uris': None,\n",
       " 'data': None,\n",
       " 'metadatas': [{'food': 'Biryani'},\n",
       "  {'food': 'Nihari'},\n",
       "  {'food': 'Chapli Kebab'},\n",
       "  {'food': 'Samosa'}],\n",
       " 'included': [<IncludeEnum.embeddings: 'embeddings'>,\n",
       "  <IncludeEnum.documents: 'documents'>,\n",
       "  <IncludeEnum.metadatas: 'metadatas'>]}"
      ]
     },
     "execution_count": 16,
     "metadata": {},
     "output_type": "execute_result"
    }
   ],
   "source": [
    "# view documents\n",
    "vector_store.get(include=['embeddings','documents', 'metadatas'])"
   ]
  },
  {
   "cell_type": "markdown",
   "id": "d7bc211e",
   "metadata": {},
   "source": []
  }
 ],
 "metadata": {
  "kernelspec": {
   "display_name": "llm_environment",
   "language": "python",
   "name": "python3"
  },
  "language_info": {
   "codemirror_mode": {
    "name": "ipython",
    "version": 3
   },
   "file_extension": ".py",
   "mimetype": "text/x-python",
   "name": "python",
   "nbconvert_exporter": "python",
   "pygments_lexer": "ipython3",
   "version": "3.11.9"
  }
 },
 "nbformat": 4,
 "nbformat_minor": 5
}
