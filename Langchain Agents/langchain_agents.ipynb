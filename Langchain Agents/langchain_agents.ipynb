{
 "cells": [
  {
   "cell_type": "markdown",
   "id": "c3f4d181",
   "metadata": {},
   "source": [
    "# AI Agent using LangChain"
   ]
  },
  {
   "cell_type": "code",
   "execution_count": 127,
   "id": "6299f506",
   "metadata": {},
   "outputs": [],
   "source": [
    "# !pip install -q langchain-openai langchain-community langchain-core requests duckduckgo-search"
   ]
  },
  {
   "cell_type": "markdown",
   "id": "5c6f71d3",
   "metadata": {},
   "source": [
    "## **Step 1:** Import Libraries"
   ]
  },
  {
   "cell_type": "code",
   "execution_count": 128,
   "id": "7b98748f",
   "metadata": {},
   "outputs": [
    {
     "data": {
      "text/plain": [
       "True"
      ]
     },
     "execution_count": 128,
     "metadata": {},
     "output_type": "execute_result"
    }
   ],
   "source": [
    "import os, requests\n",
    "from dotenv import load_dotenv\n",
    "from langchain_openai import ChatOpenAI\n",
    "from langchain_core.tools import tool\n",
    "from langchain_community.tools import DuckDuckGoSearchRun\n",
    "\n",
    "# Load environment variables\n",
    "load_dotenv()"
   ]
  },
  {
   "cell_type": "markdown",
   "id": "e8678c87",
   "metadata": {},
   "source": [
    "## **Step 2:** Setup Tools"
   ]
  },
  {
   "cell_type": "markdown",
   "id": "866559a1",
   "metadata": {},
   "source": [
    "### Tool 1: Search Tool"
   ]
  },
  {
   "cell_type": "code",
   "execution_count": 129,
   "id": "37d54eac",
   "metadata": {},
   "outputs": [
    {
     "data": {
      "text/plain": [
       "'Stay on top of Pakistan latest developments on the ground with Al Jazeera\\'s fact-based news, exclusive video footage, photos and updated maps. India\\'s aerial strikes on Pakistan began at 1:05 a.m. today (3:35 p.m. ET Tuesday) and lasted for 25 minutes, Col. Sofiya Qureshi, an Indian army officer said at a news briefing, adding no ... Pakistan says it has killed dozens of Indian soldiers in Kashmir, as it responds to Indian airstrikes. India targeted what it called \"terrorist infrastructure\" yesterday after an attack in its ... Punjab Today News Live Updates: India-Pakistan tensions hit tourism industry hard in Amritsar India\\'s one of the most prominent tourist and spiritual destinations, Amritsar is witnessing a sharp decline in tourist footfall amid the Indo-Pak flare-up, rendering scores of people associated with the hospitality industry jobless and without income. Pakistan said the strikes hit at least two sites previously tied to banned militant groups. One hit the Subhan Mosque in Punjab\\'s Bahawalpur city, killing 13 people including a child, according to ...'"
      ]
     },
     "execution_count": 129,
     "metadata": {},
     "output_type": "execute_result"
    }
   ],
   "source": [
    "search_tool = DuckDuckGoSearchRun()\n",
    "search_tool.invoke('Top news in Pakistan Today')"
   ]
  },
  {
   "cell_type": "markdown",
   "id": "7366d536",
   "metadata": {},
   "source": [
    "### Tool 2: Weather Tool"
   ]
  },
  {
   "cell_type": "code",
   "execution_count": 130,
   "id": "ee185e9a",
   "metadata": {},
   "outputs": [],
   "source": [
    "WEATHERSTACK_API_KEY = os.getenv(\"WEATHERSTACK_API_KEY\")\n",
    "\n",
    "@tool\n",
    "def get_weather_data(city: str) -> str:\n",
    "  \"\"\"\n",
    "  This function fetches the current weather data for a given city\n",
    "  \"\"\"\n",
    "  url = f'https://api.weatherstack.com/current?access_key={WEATHERSTACK_API_KEY}&query={city}'\n",
    "\n",
    "  response = requests.get(url)\n",
    "\n",
    "  return response.json()"
   ]
  },
  {
   "cell_type": "markdown",
   "id": "ab55ca23",
   "metadata": {},
   "source": [
    "### Tool 3: Curreny Tool"
   ]
  },
  {
   "cell_type": "code",
   "execution_count": 131,
   "id": "9158ba31",
   "metadata": {},
   "outputs": [],
   "source": [
    "from pydantic import BaseModel\n",
    "\n",
    "EXCHANGE_RATE_API_KEY = os.getenv(\"EXCHANGE_RATE_API_KEY\")\n",
    "\n",
    "class CurrencyPair(BaseModel):\n",
    "    pair: str  # e.g. \"USD, PKR\"\n",
    "\n",
    "@tool(args_schema = CurrencyPair)\n",
    "def get_currency(pair: str) -> float:\n",
    "    \"\"\"\n",
    "    Get the exchange rate for a currency pair given as \"BASE, TARGET\".\n",
    "    Example input: \"USD, PKR\"\n",
    "    \"\"\"\n",
    "    base_currency, target_currency = [c.strip() for c in pair.split(\",\")]\n",
    "    url = f\"https://v6.exchangerate-api.com/v6/{EXCHANGE_RATE_API_KEY}/pair/{base_currency}/{target_currency}\"\n",
    "    response = requests.get(url)\n",
    "    return response.json()\n",
    "\n",
    "# @tool\n",
    "# def get_currency(base_currency: str, target_currency: str) -> float:\n",
    "#     \"\"\" This tool fetches the conversion factor between two currencies using an external API.\n",
    "#     \"\"\"\n",
    "#     url = f\"https://v6.exchangerate-api.com/v6/{EXCHANGE_RATE_API_KEY}/pair/{base_currency}/{target_currency}\"\n",
    "#     response = requests.get(url)\n",
    "#     return response.json()[\"conversion_rate\"]"
   ]
  },
  {
   "cell_type": "markdown",
   "id": "61033f85",
   "metadata": {},
   "source": [
    "## **Step 3:** Grab ReACT Pattern Prompt"
   ]
  },
  {
   "cell_type": "code",
   "execution_count": 132,
   "id": "4d30d4a9",
   "metadata": {},
   "outputs": [
    {
     "name": "stderr",
     "output_type": "stream",
     "text": [
      "c:\\Users\\DELL\\miniconda3\\envs\\llm_environment\\Lib\\site-packages\\langsmith\\client.py:272: LangSmithMissingAPIKeyWarning: API key must be provided when using hosted LangSmith API\n",
      "  warnings.warn(\n"
     ]
    }
   ],
   "source": [
    "from langchain.agents import create_react_agent, AgentExecutor\n",
    "from langchain import hub\n",
    "\n",
    "# Step 2: Pull the ReAct prompt from LangChain Hub\n",
    "prompt = hub.pull(\"hwchase17/react\")  # pulls the standard ReAct agent prompt\n",
    "# prompt = hub.pull(\"hwchase17/react-chat\")\n"
   ]
  },
  {
   "cell_type": "markdown",
   "id": "13a6c729",
   "metadata": {},
   "source": [
    "## **Step 4:** Define LLM | Agent | Agent Executor\n",
    "\n",
    "* **LLM**: Its used for reasoning\n",
    "* **Agent**: It has `LLM + Tools`. It creates a plan on what to do\n",
    "* **Agent Executor**: It executes the plan the `Agent` decides"
   ]
  },
  {
   "cell_type": "code",
   "execution_count": 133,
   "id": "d1e0fd7d",
   "metadata": {},
   "outputs": [],
   "source": [
    "# Create LLM Instance\n",
    "llm = ChatOpenAI(model=\"gpt-4o-mini\", temperature=0)"
   ]
  },
  {
   "cell_type": "code",
   "execution_count": 134,
   "id": "0c914198",
   "metadata": {},
   "outputs": [],
   "source": [
    "# Step 3: Create the ReAct agent manually with the pulled prompt\n",
    "agent = create_react_agent(\n",
    "    llm=llm,\n",
    "    tools=[search_tool, get_weather_data, get_currency],\n",
    "    prompt=prompt\n",
    ")\n",
    "\n",
    "# Step 4: Wrap it with AgentExecutor\n",
    "agent_executor = AgentExecutor(\n",
    "    agent=agent,\n",
    "    tools=[search_tool, get_weather_data, get_currency],\n",
    "    handle_parsing_errors=True,\n",
    "    verbose=True\n",
    ")"
   ]
  },
  {
   "cell_type": "code",
   "execution_count": 135,
   "id": "cfc60e54",
   "metadata": {},
   "outputs": [
    {
     "name": "stdout",
     "output_type": "stream",
     "text": [
      "\n",
      "\n",
      "\u001b[1m> Entering new AgentExecutor chain...\u001b[0m\n",
      "\u001b[32;1m\u001b[1;3mI need to gather the current weather data for Faisalabad and the exchange rate for USD to PKR. I'll start with the weather data.\n",
      "\n",
      "Action: get_weather_data  \n",
      "Action Input: \"Faisalabad\"  \u001b[0m\u001b[33;1m\u001b[1;3m{'request': {'type': 'City', 'query': 'Faisalabad, Pakistan', 'language': 'en', 'unit': 'm'}, 'location': {'name': 'Faisalabad', 'country': 'Pakistan', 'region': 'Punjab', 'lat': '31.417', 'lon': '73.083', 'timezone_id': 'Asia/Karachi', 'localtime': '2025-05-10 03:22', 'localtime_epoch': 1746847320, 'utc_offset': '5.0'}, 'current': {'observation_time': '10:22 PM', 'temperature': 29, 'weather_code': 176, 'weather_icons': ['https://cdn.worldweatheronline.com/images/wsymbols01_png_64/wsymbol_0025_light_rain_showers_night.png'], 'weather_descriptions': ['Patchy rain nearby'], 'astro': {'sunrise': '05:15 AM', 'sunset': '06:53 PM', 'moonrise': '04:58 PM', 'moonset': '03:41 AM', 'moon_phase': 'Waxing Gibbous', 'moon_illumination': 94}, 'air_quality': {'co': '2290.3', 'no2': '93.795', 'o3': '61', 'so2': '19.24', 'pm2_5': '139.12', 'pm10': '201.65', 'us-epa-index': '4', 'gb-defra-index': '4'}, 'wind_speed': 7, 'wind_degree': 25, 'wind_dir': 'NNE', 'pressure': 1005, 'precip': 0.1, 'humidity': 38, 'cloudcover': 78, 'feelslike': 28, 'uv_index': 0, 'visibility': 10, 'is_day': 'no'}}\u001b[0m\u001b[32;1m\u001b[1;3mI have obtained the current weather data for Faisalabad. Now, I need to get the exchange rate for USD to PKR.\n",
      "\n",
      "Action: get_currency  \n",
      "Action Input: \"USD, PKR\"  \u001b[0m\u001b[38;5;200m\u001b[1;3m{'result': 'success', 'documentation': 'https://www.exchangerate-api.com/docs', 'terms_of_use': 'https://www.exchangerate-api.com/terms', 'time_last_update_unix': 1746748802, 'time_last_update_utc': 'Fri, 09 May 2025 00:00:02 +0000', 'time_next_update_unix': 1746835202, 'time_next_update_utc': 'Sat, 10 May 2025 00:00:02 +0000', 'base_code': 'USD', 'target_code': 'PKR', 'conversion_rate': 282.0785}\u001b[0m\u001b[32;1m\u001b[1;3mI now know the final answer.  \n",
      "Final Answer: The current weather in Faisalabad is 29°C with patchy rain nearby. The exchange rate of USD to PKR is approximately 282.08 PKR for 1 USD.\u001b[0m\n",
      "\n",
      "\u001b[1m> Finished chain.\u001b[0m\n",
      "{'input': \"What's the current weather in Faisalabad? Also what's the exchange rate of USD to PKR?\", 'output': 'The current weather in Faisalabad is 29°C with patchy rain nearby. The exchange rate of USD to PKR is approximately 282.08 PKR for 1 USD.'}\n",
      "----------------------------------------------------------------------------------------------------\n",
      "The current weather in Faisalabad is 29°C with patchy rain nearby. The exchange rate of USD to PKR is approximately 282.08 PKR for 1 USD.\n"
     ]
    }
   ],
   "source": [
    "# Step 5: Invoke\n",
    "response = agent_executor.invoke({\"input\": \"What's the current weather in Faisalabad? Also what's the exchange rate of USD to PKR?\"})\n",
    "print(response)\n",
    "print(\"--\" * 50)\n",
    "print(response['output'])"
   ]
  }
 ],
 "metadata": {
  "kernelspec": {
   "display_name": "llm_environment",
   "language": "python",
   "name": "python3"
  },
  "language_info": {
   "codemirror_mode": {
    "name": "ipython",
    "version": 3
   },
   "file_extension": ".py",
   "mimetype": "text/x-python",
   "name": "python",
   "nbconvert_exporter": "python",
   "pygments_lexer": "ipython3",
   "version": "3.11.9"
  }
 },
 "nbformat": 4,
 "nbformat_minor": 5
}
